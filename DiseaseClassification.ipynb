{
 "cells": [
  {
   "cell_type": "code",
   "execution_count": 2,
   "id": "36ad9d36",
   "metadata": {},
   "outputs": [],
   "source": [
    "import tensorflow as tf\n",
    "from tensorflow.keras import layers, models\n",
    "import matplotlib.pyplot as plt \n"
   ]
  },
  {
   "cell_type": "code",
   "execution_count": 3,
   "id": "d13dceb8",
   "metadata": {},
   "outputs": [
    {
     "name": "stdout",
     "output_type": "stream",
     "text": [
      "Found 2103 files belonging to 3 classes.\n"
     ]
    }
   ],
   "source": [
    "IMAGE_SIZE = 256\n",
    "BATCH_SIZE = 32\n",
    "CHANNELS = 3 \n",
    "dataset = tf.keras.preprocessing.image_dataset_from_directory(\n",
    "    'data', \n",
    "    shuffle = True,\n",
    "    image_size= (IMAGE_SIZE, IMAGE_SIZE),\n",
    "    batch_size= BATCH_SIZE\n",
    "    \n",
    ")"
   ]
  },
  {
   "cell_type": "code",
   "execution_count": 4,
   "id": "8c05217a",
   "metadata": {},
   "outputs": [
    {
     "data": {
      "text/plain": [
       "['Potato___Early_blight', 'Potato___Late_blight', 'Potato___healthy']"
      ]
     },
     "execution_count": 4,
     "metadata": {},
     "output_type": "execute_result"
    }
   ],
   "source": [
    "class_names = dataset.class_names\n",
    "class_names"
   ]
  },
  {
   "cell_type": "code",
   "execution_count": 4,
   "id": "351c1db4",
   "metadata": {},
   "outputs": [
    {
     "name": "stdout",
     "output_type": "stream",
     "text": [
      "(32, 256, 256, 3)\n",
      "<bound method _EagerTensorBase.numpy of <tf.Tensor: shape=(32,), dtype=int32, numpy=\n",
      "array([0, 0, 0, 1, 0, 1, 0, 1, 1, 1, 0, 2, 0, 0, 0, 2, 1, 0, 1, 1, 1, 0,\n",
      "       1, 2, 1, 1, 0, 1, 0, 1, 0, 0])>>\n"
     ]
    }
   ],
   "source": [
    "for image_batch, label_batch in dataset.take(1):\n",
    "    print(image_batch.shape)\n",
    "    print(label_batch.numpy)"
   ]
  },
  {
   "cell_type": "code",
   "execution_count": null,
   "id": "9684b25c",
   "metadata": {},
   "outputs": [],
   "source": [
    "for image_batch, label_batch in dataset.take(1):\n",
    "    plt.imshow(image_batch[0].numpy().astype('uint8'))\n",
    "    plt.title(class_names[label_batch[0]])\n",
    "    plt.axis('off')\n",
    "    "
   ]
  },
  {
   "cell_type": "code",
   "execution_count": 4,
   "id": "efe0923d",
   "metadata": {},
   "outputs": [
    {
     "data": {
      "text/plain": [
       "52.800000000000004"
      ]
     },
     "execution_count": 4,
     "metadata": {},
     "output_type": "execute_result"
    }
   ],
   "source": [
    "# Training set 80%\n",
    "# Validation set 10%\n",
    "# Testing set 10%\n",
    "\n",
    "training_set = 0.80\n",
    "len(dataset)* training_set\n"
   ]
  },
  {
   "cell_type": "code",
   "execution_count": 5,
   "id": "15098bb5",
   "metadata": {},
   "outputs": [
    {
     "data": {
      "text/plain": [
       "13"
      ]
     },
     "execution_count": 5,
     "metadata": {},
     "output_type": "execute_result"
    }
   ],
   "source": [
    "train_ds = dataset.take(53) # Takes in the first 53 images as training data\n",
    "test_ds = dataset.skip(53)\n",
    "len(test_ds)"
   ]
  },
  {
   "cell_type": "code",
   "execution_count": null,
   "id": "a2eb0600",
   "metadata": {},
   "outputs": [],
   "source": [
    "val_size = 0.10\n",
    "len(dataset)* val_size"
   ]
  },
  {
   "cell_type": "code",
   "execution_count": null,
   "id": "082d4a9d",
   "metadata": {},
   "outputs": [],
   "source": [
    "val_ds = test_ds.take(6)\n",
    "len(val_ds)"
   ]
  },
  {
   "cell_type": "code",
   "execution_count": null,
   "id": "baaa6ffe",
   "metadata": {},
   "outputs": [],
   "source": [
    "test_ds = val_ds.skip(6)\n",
    "len(test_ds)"
   ]
  },
  {
   "cell_type": "code",
   "execution_count": 6,
   "id": "0c1beeb8",
   "metadata": {},
   "outputs": [],
   "source": [
    "def get_dataset_split(df, train_split = 0.8, val_split = 0.1, test_split = 0.1, shuffle = True, shuffle_size = 10000):\n",
    "    \n",
    "    if shuffle:\n",
    "        df = df.shuffle(shuffle_size, seed = 12)\n",
    "        \n",
    "    ds_size = len(df) # Define length of the dataset size\n",
    "    \n",
    "    train_size = int(train_split * ds_size) #Initialising the size of training set by multiplying the dataset size and percentage split of training set\n",
    "    val_size = int(val_split * ds_size) \n",
    "    \n",
    "    train_ds = df.take(train_size)  #Take the number of datapoints as the training dataset\n",
    "    \n",
    "    val_ds = df.skip(train_size).take(val_size) #Skip the number of training set and take the number of data points from the remaining data as the validation set\n",
    "    test_ds = df.skip(train_size).take(val_size)   \n",
    "    \n",
    "    return train_ds, test_ds, val_ds"
   ]
  },
  {
   "cell_type": "code",
   "execution_count": 7,
   "id": "7d2a7664",
   "metadata": {},
   "outputs": [
    {
     "name": "stdout",
     "output_type": "stream",
     "text": [
      "Training Set 52\n",
      "Testing Set 6\n",
      "Validation Set 6\n"
     ]
    }
   ],
   "source": [
    "X_train, X_test, X_val = get_dataset_split(dataset)\n",
    "\n",
    "print(\"Training Set\",len(X_train))\n",
    "print(\"Testing Set\",len(X_test))\n",
    "print(\"Validation Set\",len(X_val))"
   ]
  },
  {
   "cell_type": "code",
   "execution_count": 8,
   "id": "3f23d354",
   "metadata": {},
   "outputs": [],
   "source": [
    "X_train = X_train.cache().shuffle(1000).prefetch(buffer_size=tf.data.AUTOTUNE)\n",
    "X_test = X_test.cache().shuffle(1000).prefetch(buffer_size=tf.data.AUTOTUNE)\n",
    "X_val = X_val.cache().shuffle(1000).prefetch(buffer_size=tf.data.AUTOTUNE)"
   ]
  },
  {
   "cell_type": "code",
   "execution_count": 9,
   "id": "be59f303",
   "metadata": {},
   "outputs": [],
   "source": [
    "#Resizing and rescaling the images to get a better scale\n",
    "resize_rescale = tf.keras.Sequential([\n",
    "    layers.experimental.preprocessing.Resizing(IMAGE_SIZE,IMAGE_SIZE),\n",
    "    layers.experimental.preprocessing.Rescaling(1.0/255)\n",
    "])"
   ]
  },
  {
   "cell_type": "code",
   "execution_count": 10,
   "id": "34e6744a",
   "metadata": {},
   "outputs": [],
   "source": [
    "# Augmenting the data i.e, taking various angles of the data to such as horizontal flip and vertical flip so that model can \n",
    "# understand data in every possible manner. Makes the model more robust in nature \n",
    "\n",
    "augmentation_layer = tf.keras.Sequential([\n",
    "    layers.experimental.preprocessing.RandomFlip('horizontal_and_vertical'),\n",
    "    layers.experimental.preprocessing.RandomRotation(0.2)\n",
    "])"
   ]
  },
  {
   "cell_type": "code",
   "execution_count": 11,
   "id": "d2faf7a0",
   "metadata": {},
   "outputs": [],
   "source": [
    "# Model Building\n",
    "\n",
    "input_shape = (BATCH_SIZE, IMAGE_SIZE, IMAGE_SIZE, CHANNELS)\n",
    "n_classes = 3\n",
    "model = models.Sequential([\n",
    "    resize_rescale,\n",
    "    augmentation_layer,\n",
    "    layers.Conv2D(32, (3,3), activation = 'relu', input_shape = input_shape), # Convolution layer arg1 = kernal, arg2 = filter_size\n",
    "    layers.MaxPooling2D((2, 2)),\n",
    "    layers.Conv2D(64,  kernel_size = (3,3), activation='relu'),\n",
    "    layers.MaxPooling2D((2, 2)),\n",
    "    layers.Conv2D(64,  kernel_size = (3,3), activation='relu'),\n",
    "    layers.MaxPooling2D((2, 2)),\n",
    "    layers.Conv2D(64, (3, 3), activation='relu'),\n",
    "    layers.MaxPooling2D((2, 2)),\n",
    "    layers.Conv2D(64, (3, 3), activation='relu'),\n",
    "    layers.MaxPooling2D((2, 2)),\n",
    "    layers.Conv2D(64, (3, 3), activation='relu'),\n",
    "    layers.MaxPooling2D((2, 2)),\n",
    "    layers.Flatten(),\n",
    "    layers.Dense(64, activation='relu'),\n",
    "    layers.Dense(n_classes, activation='softmax'),\n",
    "])"
   ]
  },
  {
   "cell_type": "code",
   "execution_count": 12,
   "id": "e2ef4f8d",
   "metadata": {},
   "outputs": [],
   "source": [
    "model.compile(\n",
    "    optimizer = 'adam',\n",
    "    loss = tf.keras.losses.SparseCategoricalCrossentropy(from_logits = False),\n",
    "    metrics = ['accuracy']\n",
    ")"
   ]
  },
  {
   "cell_type": "code",
   "execution_count": 14,
   "id": "c9176dcc",
   "metadata": {},
   "outputs": [
    {
     "name": "stdout",
     "output_type": "stream",
     "text": [
      "Epoch 1/50\n",
      "52/52 [==============================] - 30s 579ms/step - loss: 0.7341 - accuracy: 0.6454 - val_loss: 0.5590 - val_accuracy: 0.7708\n",
      "Epoch 2/50\n",
      "52/52 [==============================] - 28s 532ms/step - loss: 0.4955 - accuracy: 0.7752 - val_loss: 0.3714 - val_accuracy: 0.8490\n",
      "Epoch 3/50\n",
      "52/52 [==============================] - 29s 562ms/step - loss: 0.2854 - accuracy: 0.8834 - val_loss: 0.2654 - val_accuracy: 0.8958\n",
      "Epoch 4/50\n",
      "52/52 [==============================] - 28s 545ms/step - loss: 0.2145 - accuracy: 0.9141 - val_loss: 0.1843 - val_accuracy: 0.9219\n",
      "Epoch 5/50\n",
      "52/52 [==============================] - 28s 534ms/step - loss: 0.1758 - accuracy: 0.9357 - val_loss: 0.3504 - val_accuracy: 0.8490\n",
      "Epoch 6/50\n",
      "52/52 [==============================] - 29s 547ms/step - loss: 0.2286 - accuracy: 0.9111 - val_loss: 0.2755 - val_accuracy: 0.8906\n",
      "Epoch 7/50\n",
      "52/52 [==============================] - 29s 553ms/step - loss: 0.1608 - accuracy: 0.9339 - val_loss: 0.2541 - val_accuracy: 0.8854\n",
      "Epoch 8/50\n",
      "52/52 [==============================] - 28s 547ms/step - loss: 0.2149 - accuracy: 0.9129 - val_loss: 0.1226 - val_accuracy: 0.9583\n",
      "Epoch 9/50\n",
      "52/52 [==============================] - 28s 548ms/step - loss: 0.1176 - accuracy: 0.9597 - val_loss: 0.1264 - val_accuracy: 0.9531\n",
      "Epoch 10/50\n",
      "52/52 [==============================] - 29s 558ms/step - loss: 0.1481 - accuracy: 0.9453 - val_loss: 0.1357 - val_accuracy: 0.9479\n",
      "Epoch 11/50\n",
      "52/52 [==============================] - 27s 528ms/step - loss: 0.1270 - accuracy: 0.9459 - val_loss: 0.4418 - val_accuracy: 0.8385\n",
      "Epoch 12/50\n",
      "52/52 [==============================] - 28s 545ms/step - loss: 0.1416 - accuracy: 0.9429 - val_loss: 0.2799 - val_accuracy: 0.9062\n",
      "Epoch 13/50\n",
      "52/52 [==============================] - 28s 545ms/step - loss: 0.1191 - accuracy: 0.9573 - val_loss: 0.1166 - val_accuracy: 0.9688\n",
      "Epoch 14/50\n",
      "52/52 [==============================] - 28s 541ms/step - loss: 0.0919 - accuracy: 0.9657 - val_loss: 0.0811 - val_accuracy: 0.9792\n",
      "Epoch 15/50\n",
      "52/52 [==============================] - 28s 538ms/step - loss: 0.1060 - accuracy: 0.9621 - val_loss: 0.0935 - val_accuracy: 0.9635\n",
      "Epoch 16/50\n",
      "52/52 [==============================] - 28s 531ms/step - loss: 0.0782 - accuracy: 0.9748 - val_loss: 0.1130 - val_accuracy: 0.9531\n",
      "Epoch 17/50\n",
      "52/52 [==============================] - 29s 556ms/step - loss: 0.0672 - accuracy: 0.9754 - val_loss: 0.1629 - val_accuracy: 0.9427\n",
      "Epoch 18/50\n",
      "52/52 [==============================] - 28s 541ms/step - loss: 0.0685 - accuracy: 0.9766 - val_loss: 0.1056 - val_accuracy: 0.9635\n",
      "Epoch 19/50\n",
      "52/52 [==============================] - 28s 546ms/step - loss: 0.0726 - accuracy: 0.9742 - val_loss: 0.1828 - val_accuracy: 0.9167\n",
      "Epoch 20/50\n",
      "52/52 [==============================] - 29s 565ms/step - loss: 0.0756 - accuracy: 0.9694 - val_loss: 0.1472 - val_accuracy: 0.9323\n",
      "Epoch 21/50\n",
      "52/52 [==============================] - 32s 618ms/step - loss: 0.0504 - accuracy: 0.9832 - val_loss: 0.0474 - val_accuracy: 0.9948\n",
      "Epoch 22/50\n",
      "52/52 [==============================] - 37s 719ms/step - loss: 0.0693 - accuracy: 0.9742 - val_loss: 0.2545 - val_accuracy: 0.9167\n",
      "Epoch 23/50\n",
      "52/52 [==============================] - 29s 558ms/step - loss: 0.0401 - accuracy: 0.9880 - val_loss: 0.1661 - val_accuracy: 0.9375\n",
      "Epoch 24/50\n",
      "52/52 [==============================] - 28s 530ms/step - loss: 0.0727 - accuracy: 0.9694 - val_loss: 0.0490 - val_accuracy: 0.9844\n",
      "Epoch 25/50\n",
      "52/52 [==============================] - 27s 527ms/step - loss: 0.0518 - accuracy: 0.9808 - val_loss: 0.0560 - val_accuracy: 0.9844\n",
      "Epoch 26/50\n",
      "52/52 [==============================] - 29s 558ms/step - loss: 0.0593 - accuracy: 0.9772 - val_loss: 0.1127 - val_accuracy: 0.9531\n",
      "Epoch 27/50\n",
      "52/52 [==============================] - 28s 532ms/step - loss: 0.0532 - accuracy: 0.9772 - val_loss: 0.2363 - val_accuracy: 0.9010\n",
      "Epoch 28/50\n",
      "52/52 [==============================] - 28s 540ms/step - loss: 0.0551 - accuracy: 0.9790 - val_loss: 0.0499 - val_accuracy: 0.9792\n",
      "Epoch 29/50\n",
      "52/52 [==============================] - 27s 522ms/step - loss: 0.0388 - accuracy: 0.9862 - val_loss: 0.1044 - val_accuracy: 0.9583\n",
      "Epoch 30/50\n",
      "52/52 [==============================] - 27s 511ms/step - loss: 0.0680 - accuracy: 0.9730 - val_loss: 0.1721 - val_accuracy: 0.9219\n",
      "Epoch 31/50\n",
      "52/52 [==============================] - 28s 533ms/step - loss: 0.0556 - accuracy: 0.9826 - val_loss: 0.0417 - val_accuracy: 0.9896\n",
      "Epoch 32/50\n",
      "52/52 [==============================] - 26s 506ms/step - loss: 0.0339 - accuracy: 0.9874 - val_loss: 0.0338 - val_accuracy: 0.9792\n",
      "Epoch 33/50\n",
      "52/52 [==============================] - 27s 521ms/step - loss: 0.0460 - accuracy: 0.9862 - val_loss: 0.0332 - val_accuracy: 0.9948\n",
      "Epoch 34/50\n",
      "52/52 [==============================] - 26s 505ms/step - loss: 0.0269 - accuracy: 0.9940 - val_loss: 0.0585 - val_accuracy: 0.9688\n",
      "Epoch 35/50\n",
      "52/52 [==============================] - 26s 509ms/step - loss: 0.0369 - accuracy: 0.9838 - val_loss: 0.0719 - val_accuracy: 0.9740\n",
      "Epoch 36/50\n",
      "52/52 [==============================] - 27s 527ms/step - loss: 0.0402 - accuracy: 0.9844 - val_loss: 0.0294 - val_accuracy: 0.9792\n",
      "Epoch 37/50\n",
      "52/52 [==============================] - 27s 517ms/step - loss: 0.0357 - accuracy: 0.9904 - val_loss: 0.0154 - val_accuracy: 0.9948\n",
      "Epoch 38/50\n",
      "52/52 [==============================] - 29s 558ms/step - loss: 0.0230 - accuracy: 0.9928 - val_loss: 0.0144 - val_accuracy: 0.9948\n",
      "Epoch 39/50\n",
      "52/52 [==============================] - 26s 508ms/step - loss: 0.0545 - accuracy: 0.9814 - val_loss: 0.1947 - val_accuracy: 0.9323\n",
      "Epoch 40/50\n",
      "52/52 [==============================] - 28s 549ms/step - loss: 0.0349 - accuracy: 0.9868 - val_loss: 0.0159 - val_accuracy: 0.9948\n",
      "Epoch 41/50\n",
      "52/52 [==============================] - 30s 567ms/step - loss: 0.0413 - accuracy: 0.9832 - val_loss: 0.0457 - val_accuracy: 0.9740\n",
      "Epoch 42/50\n",
      "52/52 [==============================] - 29s 554ms/step - loss: 0.0346 - accuracy: 0.9862 - val_loss: 0.0695 - val_accuracy: 0.9740\n",
      "Epoch 43/50\n",
      "52/52 [==============================] - 28s 534ms/step - loss: 0.0297 - accuracy: 0.9892 - val_loss: 0.1005 - val_accuracy: 0.9583\n",
      "Epoch 44/50\n",
      "52/52 [==============================] - 30s 567ms/step - loss: 0.0218 - accuracy: 0.9898 - val_loss: 0.0649 - val_accuracy: 0.9844\n",
      "Epoch 45/50\n",
      "52/52 [==============================] - 30s 572ms/step - loss: 0.0417 - accuracy: 0.9844 - val_loss: 0.0316 - val_accuracy: 0.9896\n",
      "Epoch 46/50\n",
      "52/52 [==============================] - 29s 554ms/step - loss: 0.0386 - accuracy: 0.9868 - val_loss: 0.1004 - val_accuracy: 0.9635\n",
      "Epoch 47/50\n",
      "52/52 [==============================] - 29s 550ms/step - loss: 0.0579 - accuracy: 0.9778 - val_loss: 0.0506 - val_accuracy: 0.9740\n",
      "Epoch 48/50\n",
      "52/52 [==============================] - 29s 566ms/step - loss: 0.0202 - accuracy: 0.9928 - val_loss: 0.0216 - val_accuracy: 0.9948\n",
      "Epoch 49/50\n",
      "52/52 [==============================] - 29s 549ms/step - loss: 0.0138 - accuracy: 0.9958 - val_loss: 0.0413 - val_accuracy: 0.9844\n",
      "Epoch 50/50\n",
      "52/52 [==============================] - 29s 562ms/step - loss: 0.0114 - accuracy: 0.9952 - val_loss: 0.0622 - val_accuracy: 0.9844\n"
     ]
    }
   ],
   "source": [
    "history = model.fit(\n",
    "    X_train,\n",
    "    batch_size = BATCH_SIZE,\n",
    "    validation_data = X_val, \n",
    "    verbose = 1,\n",
    "    epochs = 50\n",
    ")"
   ]
  },
  {
   "cell_type": "code",
   "execution_count": 15,
   "id": "f4c6bcee",
   "metadata": {},
   "outputs": [
    {
     "name": "stdout",
     "output_type": "stream",
     "text": [
      "6/6 [==============================] - 2s 148ms/step - loss: 0.0646 - accuracy: 0.9844\n"
     ]
    }
   ],
   "source": [
    "scores = model.evaluate(X_test)\n"
   ]
  },
  {
   "cell_type": "code",
   "execution_count": 16,
   "id": "f93d43c6",
   "metadata": {},
   "outputs": [
    {
     "data": {
      "text/plain": [
       "dict_keys(['loss', 'accuracy', 'val_loss', 'val_accuracy'])"
      ]
     },
     "execution_count": 16,
     "metadata": {},
     "output_type": "execute_result"
    }
   ],
   "source": [
    "history.history.keys()"
   ]
  },
  {
   "cell_type": "code",
   "execution_count": 17,
   "id": "ae3208c7",
   "metadata": {},
   "outputs": [],
   "source": [
    "acc= history.history['accuracy']\n",
    "val_acc = history.history['val_accuracy']\n",
    "loss = history.history['loss']\n",
    "val_loss = history.history['val_loss']\n"
   ]
  },
  {
   "cell_type": "code",
   "execution_count": null,
   "id": "5cb2f32f",
   "metadata": {},
   "outputs": [],
   "source": [
    "plt.figure(figsize=(10, 8))\n",
    "plt.subplot(1, 2, 1)\n",
    "plt.plot(range(EPOCHS), acc, label='Training Accuracy')\n",
    "plt.plot(range(EPOCHS), val_acc, label='Validation Accuracy')\n",
    "plt.legend(loc='lower right')\n",
    "plt.title('Training and Validation Accuracy')\n",
    "\n",
    "plt.subplot(1, 2, 2)\n",
    "plt.plot(range(EPOCHS), loss, label='Training Loss')\n",
    "plt.plot(range(EPOCHS), val_loss, label='Validation Loss')\n",
    "plt.legend(loc='upper right')\n",
    "plt.title('Training and Validation Loss')\n",
    "plt.show()"
   ]
  },
  {
   "cell_type": "code",
   "execution_count": null,
   "id": "1097ec0b",
   "metadata": {},
   "outputs": [],
   "source": []
  }
 ],
 "metadata": {
  "kernelspec": {
   "display_name": "Python 3 (ipykernel)",
   "language": "python",
   "name": "python3"
  },
  "language_info": {
   "codemirror_mode": {
    "name": "ipython",
    "version": 3
   },
   "file_extension": ".py",
   "mimetype": "text/x-python",
   "name": "python",
   "nbconvert_exporter": "python",
   "pygments_lexer": "ipython3",
   "version": "3.9.13"
  }
 },
 "nbformat": 4,
 "nbformat_minor": 5
}
