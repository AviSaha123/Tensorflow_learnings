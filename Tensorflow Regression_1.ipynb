{
 "cells": [
  {
   "cell_type": "code",
   "execution_count": 1,
   "id": "c94685d7",
   "metadata": {},
   "outputs": [],
   "source": [
    "import tensorflow as tf\n",
    "import matplotlib.pyplot as plt \n",
    "import numpy as np\n",
    "import pandas as pd "
   ]
  },
  {
   "cell_type": "code",
   "execution_count": 2,
   "id": "864960f6",
   "metadata": {},
   "outputs": [
    {
     "data": {
      "image/png": "[encoded data removed]",
      "text/plain": [
       "<Figure size 432x288 with 1 Axes>"
      ]
     },
     "metadata": {
      "needs_background": "light"
     },
     "output_type": "display_data"
    }
   ],
   "source": [
    "X = np.array([-7.0, -4.0, -1.0, 2.0, 5.0, 8.0, 11.0, 14.0])\n",
    "\n",
    "# Create labels\n",
    "y = np.array([3.0, 6.0, 9.0, 12.0, 15.0, 18.0, 21.0, 24.0])\n",
    "\n",
    "# Visualize it\n",
    "plt.scatter(X, y);"
   ]
  },
  {
   "cell_type": "code",
   "execution_count": 3,
   "id": "f0522a9a",
   "metadata": {},
   "outputs": [],
   "source": [
    "X = tf.constant([-7.0, -4.0, -1.0, 2.0, 5.0, 8.0, 11.0, 14.0])\n",
    "y = tf.constant([3.0, 6.0, 9.0, 12.0, 15.0, 18.0, 21.0, 24.0])\n"
   ]
  },
  {
   "cell_type": "code",
   "execution_count": 4,
   "id": "e8aab9f1",
   "metadata": {},
   "outputs": [
    {
     "data": {
      "text/plain": [
       "<keras.callbacks.History at 0x293960544f0>"
      ]
     },
     "execution_count": 4,
     "metadata": {},
     "output_type": "execute_result"
    }
   ],
   "source": [
    "# Set random seed\n",
    "tf.random.set_seed(42)\n",
    "\n",
    "model = tf.keras.Sequential([\n",
    "    tf.keras.layers.Dense(1)\n",
    "])\n",
    "\n",
    "model.compile(loss = tf.losses.mae,\n",
    "              optimizer = tf.keras.optimizers.SGD(),\n",
    "              metrics = ['mae'])\n",
    "\n",
    "model.fit(tf.expand_dims(X,axis =-1), y, epochs = 100, verbose = 0)"
   ]
  },
  {
   "cell_type": "code",
   "execution_count": 5,
   "id": "4934805d",
   "metadata": {},
   "outputs": [
    {
     "data": {
      "text/plain": [
       "(<tf.Tensor: shape=(8,), dtype=float32, numpy=array([-7., -4., -1.,  2.,  5.,  8., 11., 14.], dtype=float32)>,\n",
       " <tf.Tensor: shape=(8,), dtype=float32, numpy=array([ 3.,  6.,  9., 12., 15., 18., 21., 24.], dtype=float32)>)"
      ]
     },
     "execution_count": 5,
     "metadata": {},
     "output_type": "execute_result"
    }
   ],
   "source": [
    "X,y"
   ]
  },
  {
   "cell_type": "code",
   "execution_count": 6,
   "id": "c0f96acd",
   "metadata": {},
   "outputs": [
    {
     "data": {
      "text/plain": [
       "array([[24.983334]], dtype=float32)"
      ]
     },
     "execution_count": 6,
     "metadata": {},
     "output_type": "execute_result"
    }
   ],
   "source": [
    "model.predict([14.0])"
   ]
  },
  {
   "cell_type": "code",
   "execution_count": 7,
   "id": "18cba30c",
   "metadata": {},
   "outputs": [
    {
     "name": "stderr",
     "output_type": "stream",
     "text": [
      "c:\\Users\\avirupsaha\\anaconda3\\lib\\site-packages\\keras\\optimizer_v2\\adam.py:105: UserWarning: The `lr` argument is deprecated, use `learning_rate` instead.\n",
      "  super(Adam, self).__init__(name, **kwargs)\n"
     ]
    },
    {
     "data": {
      "text/plain": [
       "<keras.callbacks.History at 0x293965dd460>"
      ]
     },
     "execution_count": 7,
     "metadata": {},
     "output_type": "execute_result"
    }
   ],
   "source": [
    "# Create a new model\n",
    "model = tf.keras.Sequential([\n",
    "    tf.keras.layers.Dense(100, activation = 'relu'),\n",
    "    tf.keras.layers.Dense(1)\n",
    "])\n",
    "\n",
    "model.compile(loss=tf.losses.mae,\n",
    "              optimizer=tf.keras.optimizers.Adam(lr = 0.01),\n",
    "              metrics=['mae'])\n",
    "\n",
    "model.fit(tf.expand_dims(X, axis=-1), y, epochs=100, verbose = 0)\n"
   ]
  },
  {
   "cell_type": "code",
   "execution_count": 8,
   "id": "2a17e9a7",
   "metadata": {},
   "outputs": [
    {
     "data": {
      "text/plain": [
       "(<tf.Tensor: shape=(8,), dtype=float32, numpy=array([-7., -4., -1.,  2.,  5.,  8., 11., 14.], dtype=float32)>,\n",
       " <tf.Tensor: shape=(8,), dtype=float32, numpy=array([ 3.,  6.,  9., 12., 15., 18., 21., 24.], dtype=float32)>)"
      ]
     },
     "execution_count": 8,
     "metadata": {},
     "output_type": "execute_result"
    }
   ],
   "source": [
    "X,y"
   ]
  },
  {
   "cell_type": "code",
   "execution_count": 9,
   "id": "f128a5d5",
   "metadata": {},
   "outputs": [
    {
     "data": {
      "text/plain": [
       "array([[23.022535]], dtype=float32)"
      ]
     },
     "execution_count": 9,
     "metadata": {},
     "output_type": "execute_result"
    }
   ],
   "source": [
    "model.predict([14.0])"
   ]
  },
  {
   "cell_type": "code",
   "execution_count": 10,
   "id": "1b9979a5",
   "metadata": {},
   "outputs": [
    {
     "data": {
      "text/plain": [
       "(<tf.Tensor: shape=(50,), dtype=int32, numpy=\n",
       " array([-100,  -96,  -92,  -88,  -84,  -80,  -76,  -72,  -68,  -64,  -60,\n",
       "         -56,  -52,  -48,  -44,  -40,  -36,  -32,  -28,  -24,  -20,  -16,\n",
       "         -12,   -8,   -4,    0,    4,    8,   12,   16,   20,   24,   28,\n",
       "          32,   36,   40,   44,   48,   52,   56,   60,   64,   68,   72,\n",
       "          76,   80,   84,   88,   92,   96])>,\n",
       " <tf.Tensor: shape=(50,), dtype=int32, numpy=\n",
       " array([-90, -86, -82, -78, -74, -70, -66, -62, -58, -54, -50, -46, -42,\n",
       "        -38, -34, -30, -26, -22, -18, -14, -10,  -6,  -2,   2,   6,  10,\n",
       "         14,  18,  22,  26,  30,  34,  38,  42,  46,  50,  54,  58,  62,\n",
       "         66,  70,  74,  78,  82,  86,  90,  94,  98, 102, 106])>)"
      ]
     },
     "execution_count": 10,
     "metadata": {},
     "output_type": "execute_result"
    }
   ],
   "source": [
    "# Building a bigger dataset\n",
    "X = tf.range(-100, 100, 4)\n",
    "y = X+10\n",
    "X,y"
   ]
  },
  {
   "cell_type": "code",
   "execution_count": 11,
   "id": "4919fcc2",
   "metadata": {},
   "outputs": [
    {
     "data": {
      "text/plain": [
       "<matplotlib.collections.PathCollection at 0x29396587040>"
      ]
     },
     "execution_count": 11,
     "metadata": {},
     "output_type": "execute_result"
    },
    {
     "data": {
      "image/png": "[encoded data removed]",
      "text/plain": [
       "<Figure size 432x288 with 1 Axes>"
      ]
     },
     "metadata": {
      "needs_background": "light"
     },
     "output_type": "display_data"
    }
   ],
   "source": [
    "plt.scatter(X,y)"
   ]
  },
  {
   "cell_type": "code",
   "execution_count": 12,
   "id": "4ad6d978",
   "metadata": {},
   "outputs": [
    {
     "name": "stdout",
     "output_type": "stream",
     "text": [
      "[-100  -96  -92  -88  -84  -80  -76  -72  -68  -64  -60  -56  -52  -48\n",
      "  -44  -40  -36  -32  -28  -24  -20  -16  -12   -8   -4    0    4    8\n",
      "   12   16   20   24   28   32   36   40   44   48   52   56]length is 40\n",
      "[60 64 68 72 76 80 84 88 92 96]length is 10\n",
      "[-100  -96  -92  -88  -84  -80  -76  -72  -68  -64  -60  -56  -52  -48\n",
      "  -44  -40  -36  -32  -28  -24  -20  -16  -12   -8   -4    0    4    8\n",
      "   12   16   20   24   28   32   36   40   44   48   52   56]length is 40\n",
      "[60 64 68 72 76 80 84 88 92 96]length is 10\n"
     ]
    }
   ],
   "source": [
    "X_train = X[:40]\n",
    "X_test = X[40:]\n",
    "y_train = X[:40]\n",
    "y_test = X[40:]\n",
    "\n",
    "all_data_vars = [X_train,X_test,y_train,y_test]\n",
    "for i in all_data_vars:\n",
    "    print(f'{i}length is {len(i)}')"
   ]
  },
  {
   "cell_type": "code",
   "execution_count": 13,
   "id": "699e4ee6",
   "metadata": {},
   "outputs": [
    {
     "data": {
      "text/plain": [
       "<matplotlib.legend.Legend at 0x293978d9be0>"
      ]
     },
     "execution_count": 13,
     "metadata": {},
     "output_type": "execute_result"
    },
    {
     "data": {
      "image/png": "[encoded data removed]",
      "text/plain": [
       "<Figure size 432x288 with 1 Axes>"
      ]
     },
     "metadata": {
      "needs_background": "light"
     },
     "output_type": "display_data"
    }
   ],
   "source": [
    "\n",
    "plt.scatter(X_train,y_train, cmap = 'red',label = \"Training Data\")\n",
    "plt.scatter(X_test,y_test, cmap = 'green',label = \"Testing Data\")\n",
    "plt.legend()"
   ]
  },
  {
   "cell_type": "code",
   "execution_count": 14,
   "id": "e3bdf0a7",
   "metadata": {},
   "outputs": [
    {
     "name": "stdout",
     "output_type": "stream",
     "text": [
      "Epoch 1/100\n",
      "2/2 [==============================] - 0s 3ms/step - loss: 41.7083 - mae: 41.7083\n",
      "Epoch 2/100\n",
      "2/2 [==============================] - 0s 3ms/step - loss: 32.1202 - mae: 32.1202\n",
      "Epoch 3/100\n",
      "2/2 [==============================] - 0s 3ms/step - loss: 22.9189 - mae: 22.9189\n",
      "Epoch 4/100\n",
      "2/2 [==============================] - 0s 3ms/step - loss: 13.3381 - mae: 13.3381\n",
      "Epoch 5/100\n",
      "2/2 [==============================] - 0s 3ms/step - loss: 3.7802 - mae: 3.7802\n",
      "Epoch 6/100\n",
      "2/2 [==============================] - 0s 4ms/step - loss: 5.1060 - mae: 5.1060\n",
      "Epoch 7/100\n",
      "2/2 [==============================] - 0s 2ms/step - loss: 7.6995 - mae: 7.6995\n",
      "Epoch 8/100\n",
      "2/2 [==============================] - 0s 3ms/step - loss: 6.1911 - mae: 6.1911\n",
      "Epoch 9/100\n",
      "2/2 [==============================] - 0s 3ms/step - loss: 2.4711 - mae: 2.4711\n",
      "Epoch 10/100\n",
      "2/2 [==============================] - 0s 4ms/step - loss: 2.0449 - mae: 2.0449\n",
      "Epoch 11/100\n",
      "2/2 [==============================] - 0s 4ms/step - loss: 4.1749 - mae: 4.1749\n",
      "Epoch 12/100\n",
      "2/2 [==============================] - 0s 2ms/step - loss: 4.5962 - mae: 4.5962\n",
      "Epoch 13/100\n",
      "2/2 [==============================] - 0s 4ms/step - loss: 3.0241 - mae: 3.0241\n",
      "Epoch 14/100\n",
      "2/2 [==============================] - 0s 3ms/step - loss: 0.7450 - mae: 0.7450\n",
      "Epoch 15/100\n",
      "2/2 [==============================] - 0s 4ms/step - loss: 2.6625 - mae: 2.6625\n",
      "Epoch 16/100\n",
      "2/2 [==============================] - 0s 3ms/step - loss: 2.9377 - mae: 2.9377\n",
      "Epoch 17/100\n",
      "2/2 [==============================] - 0s 4ms/step - loss: 1.9550 - mae: 1.9550\n",
      "Epoch 18/100\n",
      "2/2 [==============================] - 0s 4ms/step - loss: 0.5756 - mae: 0.5756\n",
      "Epoch 19/100\n",
      "2/2 [==============================] - 0s 3ms/step - loss: 1.3049 - mae: 1.3049\n",
      "Epoch 20/100\n",
      "2/2 [==============================] - 0s 3ms/step - loss: 0.4720 - mae: 0.4720\n",
      "Epoch 21/100\n",
      "2/2 [==============================] - 0s 3ms/step - loss: 0.6404 - mae: 0.6404\n",
      "Epoch 22/100\n",
      "2/2 [==============================] - 0s 3ms/step - loss: 0.2038 - mae: 0.2038\n",
      "Epoch 23/100\n",
      "2/2 [==============================] - 0s 1ms/step - loss: 1.1879 - mae: 1.1879\n",
      "Epoch 24/100\n",
      "2/2 [==============================] - 0s 2ms/step - loss: 1.1431 - mae: 1.1431\n",
      "Epoch 25/100\n",
      "2/2 [==============================] - 0s 2ms/step - loss: 0.4588 - mae: 0.4588\n",
      "Epoch 26/100\n",
      "2/2 [==============================] - 0s 2ms/step - loss: 0.8207 - mae: 0.8207\n",
      "Epoch 27/100\n",
      "2/2 [==============================] - 0s 2ms/step - loss: 0.6118 - mae: 0.6118\n",
      "Epoch 28/100\n",
      "2/2 [==============================] - 0s 2ms/step - loss: 0.3538 - mae: 0.3538\n",
      "Epoch 29/100\n",
      "2/2 [==============================] - 0s 2ms/step - loss: 0.5363 - mae: 0.5363\n",
      "Epoch 30/100\n",
      "2/2 [==============================] - 0s 2ms/step - loss: 0.5062 - mae: 0.5062\n",
      "Epoch 31/100\n",
      "2/2 [==============================] - 0s 3ms/step - loss: 0.6090 - mae: 0.6090\n",
      "Epoch 32/100\n",
      "2/2 [==============================] - 0s 1ms/step - loss: 1.3562 - mae: 1.3562\n",
      "Epoch 33/100\n",
      "2/2 [==============================] - 0s 2ms/step - loss: 0.6675 - mae: 0.6675\n",
      "Epoch 34/100\n",
      "2/2 [==============================] - 0s 2ms/step - loss: 1.1124 - mae: 1.1124\n",
      "Epoch 35/100\n",
      "2/2 [==============================] - 0s 2ms/step - loss: 1.7598 - mae: 1.7598\n",
      "Epoch 36/100\n",
      "2/2 [==============================] - 0s 3ms/step - loss: 1.1115 - mae: 1.1115\n",
      "Epoch 37/100\n",
      "2/2 [==============================] - 0s 2ms/step - loss: 0.8420 - mae: 0.8420\n",
      "Epoch 38/100\n",
      "2/2 [==============================] - 0s 4ms/step - loss: 1.1282 - mae: 1.1282\n",
      "Epoch 39/100\n",
      "2/2 [==============================] - 0s 4ms/step - loss: 0.3451 - mae: 0.3451\n",
      "Epoch 40/100\n",
      "2/2 [==============================] - 0s 3ms/step - loss: 0.4600 - mae: 0.4600\n",
      "Epoch 41/100\n",
      "2/2 [==============================] - 0s 2ms/step - loss: 0.2737 - mae: 0.2737\n",
      "Epoch 42/100\n",
      "2/2 [==============================] - 0s 2ms/step - loss: 0.1822 - mae: 0.1822\n",
      "Epoch 43/100\n",
      "2/2 [==============================] - 0s 2ms/step - loss: 0.1522 - mae: 0.1522\n",
      "Epoch 44/100\n",
      "2/2 [==============================] - 0s 2ms/step - loss: 0.3323 - mae: 0.3323\n",
      "Epoch 45/100\n",
      "2/2 [==============================] - 0s 2ms/step - loss: 0.3374 - mae: 0.3374\n",
      "Epoch 46/100\n",
      "2/2 [==============================] - 0s 3ms/step - loss: 0.0546 - mae: 0.0546\n",
      "Epoch 47/100\n",
      "2/2 [==============================] - 0s 3ms/step - loss: 0.0639 - mae: 0.0639\n",
      "Epoch 48/100\n",
      "2/2 [==============================] - 0s 3ms/step - loss: 0.1737 - mae: 0.1737\n",
      "Epoch 49/100\n",
      "2/2 [==============================] - 0s 2ms/step - loss: 0.1208 - mae: 0.1208\n",
      "Epoch 50/100\n",
      "2/2 [==============================] - 0s 999us/step - loss: 0.3541 - mae: 0.3541\n",
      "Epoch 51/100\n",
      "2/2 [==============================] - 0s 2ms/step - loss: 0.4567 - mae: 0.4567\n",
      "Epoch 52/100\n",
      "2/2 [==============================] - 0s 2ms/step - loss: 0.9764 - mae: 0.9764\n",
      "Epoch 53/100\n",
      "2/2 [==============================] - 0s 3ms/step - loss: 0.5119 - mae: 0.5119\n",
      "Epoch 54/100\n",
      "2/2 [==============================] - 0s 3ms/step - loss: 1.1203 - mae: 1.1203\n",
      "Epoch 55/100\n",
      "2/2 [==============================] - 0s 4ms/step - loss: 1.4440 - mae: 1.4440\n",
      "Epoch 56/100\n",
      "2/2 [==============================] - 0s 2ms/step - loss: 0.5345 - mae: 0.5345\n",
      "Epoch 57/100\n",
      "2/2 [==============================] - 0s 2ms/step - loss: 0.9776 - mae: 0.9776\n",
      "Epoch 58/100\n",
      "2/2 [==============================] - 0s 2ms/step - loss: 0.9780 - mae: 0.9780\n",
      "Epoch 59/100\n",
      "2/2 [==============================] - 0s 2ms/step - loss: 0.2970 - mae: 0.2970\n",
      "Epoch 60/100\n",
      "2/2 [==============================] - 0s 3ms/step - loss: 0.3600 - mae: 0.3600\n",
      "Epoch 61/100\n",
      "2/2 [==============================] - 0s 3ms/step - loss: 0.6125 - mae: 0.6125\n",
      "Epoch 62/100\n",
      "2/2 [==============================] - 0s 2ms/step - loss: 0.6511 - mae: 0.6511\n",
      "Epoch 63/100\n",
      "2/2 [==============================] - 0s 2ms/step - loss: 0.5420 - mae: 0.5420\n",
      "Epoch 64/100\n",
      "2/2 [==============================] - 0s 2ms/step - loss: 0.6248 - mae: 0.6248\n",
      "Epoch 65/100\n",
      "2/2 [==============================] - 0s 2ms/step - loss: 0.8189 - mae: 0.8189\n",
      "Epoch 66/100\n",
      "2/2 [==============================] - 0s 2ms/step - loss: 1.3406 - mae: 1.3406\n",
      "Epoch 67/100\n",
      "2/2 [==============================] - 0s 2ms/step - loss: 0.4535 - mae: 0.4535\n",
      "Epoch 68/100\n",
      "2/2 [==============================] - 0s 2ms/step - loss: 0.3802 - mae: 0.3802\n",
      "Epoch 69/100\n",
      "2/2 [==============================] - 0s 3ms/step - loss: 0.4872 - mae: 0.4872\n",
      "Epoch 70/100\n",
      "2/2 [==============================] - 0s 3ms/step - loss: 0.4838 - mae: 0.4838\n",
      "Epoch 71/100\n",
      "2/2 [==============================] - 0s 2ms/step - loss: 0.4260 - mae: 0.4260\n",
      "Epoch 72/100\n",
      "2/2 [==============================] - 0s 1ms/step - loss: 0.3611 - mae: 0.3611\n",
      "Epoch 73/100\n",
      "2/2 [==============================] - 0s 2ms/step - loss: 0.3651 - mae: 0.3651\n",
      "Epoch 74/100\n",
      "2/2 [==============================] - 0s 2ms/step - loss: 0.5472 - mae: 0.5472\n",
      "Epoch 75/100\n",
      "2/2 [==============================] - 0s 2ms/step - loss: 0.4994 - mae: 0.4994\n",
      "Epoch 76/100\n",
      "2/2 [==============================] - 0s 2ms/step - loss: 0.7144 - mae: 0.7144\n",
      "Epoch 77/100\n",
      "2/2 [==============================] - 0s 2ms/step - loss: 1.0167 - mae: 1.0167\n",
      "Epoch 78/100\n",
      "2/2 [==============================] - 0s 3ms/step - loss: 0.7908 - mae: 0.7908\n",
      "Epoch 79/100\n",
      "2/2 [==============================] - 0s 2ms/step - loss: 0.3939 - mae: 0.3939\n",
      "Epoch 80/100\n",
      "2/2 [==============================] - 0s 3ms/step - loss: 0.4111 - mae: 0.4111\n",
      "Epoch 81/100\n",
      "2/2 [==============================] - 0s 4ms/step - loss: 0.5398 - mae: 0.5398\n",
      "Epoch 82/100\n",
      "2/2 [==============================] - 0s 3ms/step - loss: 0.4823 - mae: 0.4823\n",
      "Epoch 83/100\n",
      "2/2 [==============================] - 0s 3ms/step - loss: 0.1344 - mae: 0.1344\n",
      "Epoch 84/100\n",
      "2/2 [==============================] - 0s 3ms/step - loss: 0.4346 - mae: 0.4346\n",
      "Epoch 85/100\n",
      "2/2 [==============================] - 0s 2ms/step - loss: 0.3122 - mae: 0.3122\n",
      "Epoch 86/100\n",
      "2/2 [==============================] - 0s 1ms/step - loss: 0.7168 - mae: 0.7168\n",
      "Epoch 87/100\n",
      "2/2 [==============================] - 0s 2ms/step - loss: 0.7485 - mae: 0.7485\n",
      "Epoch 88/100\n",
      "2/2 [==============================] - 0s 2ms/step - loss: 0.9166 - mae: 0.9166\n",
      "Epoch 89/100\n",
      "2/2 [==============================] - 0s 3ms/step - loss: 0.4793 - mae: 0.4793\n",
      "Epoch 90/100\n",
      "2/2 [==============================] - 0s 2ms/step - loss: 1.3870 - mae: 1.3870\n",
      "Epoch 91/100\n",
      "2/2 [==============================] - 0s 2ms/step - loss: 0.5604 - mae: 0.5604\n",
      "Epoch 92/100\n",
      "2/2 [==============================] - 0s 4ms/step - loss: 1.0176 - mae: 1.0176\n",
      "Epoch 93/100\n",
      "2/2 [==============================] - 0s 2ms/step - loss: 1.0037 - mae: 1.0037\n",
      "Epoch 94/100\n",
      "2/2 [==============================] - 0s 2ms/step - loss: 1.2047 - mae: 1.2047\n",
      "Epoch 95/100\n",
      "2/2 [==============================] - 0s 2ms/step - loss: 0.3150 - mae: 0.3150\n",
      "Epoch 96/100\n",
      "2/2 [==============================] - 0s 2ms/step - loss: 1.5386 - mae: 1.5386\n",
      "Epoch 97/100\n",
      "2/2 [==============================] - 0s 2ms/step - loss: 1.1086 - mae: 1.1086\n",
      "Epoch 98/100\n",
      "2/2 [==============================] - 0s 3ms/step - loss: 0.8868 - mae: 0.8868\n",
      "Epoch 99/100\n",
      "2/2 [==============================] - 0s 3ms/step - loss: 1.5419 - mae: 1.5419\n",
      "Epoch 100/100\n",
      "2/2 [==============================] - 0s 1ms/step - loss: 0.7135 - mae: 0.7135\n"
     ]
    },
    {
     "data": {
      "text/plain": [
       "<keras.callbacks.History at 0x29397971c70>"
      ]
     },
     "execution_count": 14,
     "metadata": {},
     "output_type": "execute_result"
    }
   ],
   "source": [
    "# Building a model for training data\n",
    "# Create a new model\n",
    "model = tf.keras.Sequential([\n",
    "    tf.keras.layers.Dense(100, activation='relu'),\n",
    "    tf.keras.layers.Dense(1)\n",
    "])\n",
    "\n",
    "model.compile(loss=tf.losses.mae,\n",
    "              optimizer=tf.keras.optimizers.Adam(lr=0.01),\n",
    "              metrics=['mae'])\n",
    "\n",
    "model.fit(tf.expand_dims(X_train, axis=-1), y_train, epochs=100)\n"
   ]
  },
  {
   "cell_type": "code",
   "execution_count": 15,
   "id": "f692c5e4",
   "metadata": {
    "scrolled": true
   },
   "outputs": [
    {
     "name": "stdout",
     "output_type": "stream",
     "text": [
      "Model: \"sequential_2\"\n",
      "_________________________________________________________________\n",
      " Layer (type)                Output Shape              Param #   \n",
      "=================================================================\n",
      " dense_3 (Dense)             (None, 100)               200       \n",
      "                                                                 \n",
      " dense_4 (Dense)             (None, 1)                 101       \n",
      "                                                                 \n",
      "=================================================================\n",
      "Total params: 301\n",
      "Trainable params: 301\n",
      "Non-trainable params: 0\n",
      "_________________________________________________________________\n"
     ]
    }
   ],
   "source": [
    "model.summary()"
   ]
  },
  {
   "cell_type": "code",
   "execution_count": 16,
   "id": "8b4ee564",
   "metadata": {},
   "outputs": [],
   "source": [
    "model = tf.keras.Sequential([\n",
    "    tf.keras.layers.Dense(1,input_shape = [1]),\n",
    "    \n",
    "])\n",
    "\n",
    "model.compile(loss=tf.losses.mae,\n",
    "              optimizer=tf.keras.optimizers.Adam(lr=0.01),\n",
    "              metrics=['mae'])"
   ]
  },
  {
   "cell_type": "code",
   "execution_count": 17,
   "id": "03907339",
   "metadata": {},
   "outputs": [
    {
     "data": {
      "text/plain": [
       "<keras.callbacks.History at 0x29397bb1760>"
      ]
     },
     "execution_count": 17,
     "metadata": {},
     "output_type": "execute_result"
    }
   ],
   "source": [
    "model.fit(X_train,y_train, verbose = 0, epochs = 100)"
   ]
  },
  {
   "cell_type": "code",
   "execution_count": 18,
   "id": "38d496e3",
   "metadata": {
    "scrolled": true
   },
   "outputs": [
    {
     "name": "stdout",
     "output_type": "stream",
     "text": [
      "Model: \"sequential_3\"\n",
      "_________________________________________________________________\n",
      " Layer (type)                Output Shape              Param #   \n",
      "=================================================================\n",
      " dense_5 (Dense)             (None, 1)                 2         \n",
      "                                                                 \n",
      "=================================================================\n",
      "Total params: 2\n",
      "Trainable params: 2\n",
      "Non-trainable params: 0\n",
      "_________________________________________________________________\n"
     ]
    }
   ],
   "source": [
    "model.summary()"
   ]
  },
  {
   "cell_type": "code",
   "execution_count": 19,
   "id": "e56bbb78",
   "metadata": {},
   "outputs": [
    {
     "name": "stdout",
     "output_type": "stream",
     "text": [
      "('You must install pydot (`pip install pydot`) and install graphviz (see instructions at https://graphviz.gitlab.io/download/) ', 'for plot_model/model_to_dot to work.')\n"
     ]
    }
   ],
   "source": [
    "import os\n",
    "os.environ[\"PATH\"] += os.pathsep + 'C:/Program Files (x86)/Graphviz2.38/bin/'\n",
    "from tensorflow.keras.utils import plot_model\n",
    "plot_model(model = model)"
   ]
  },
  {
   "cell_type": "code",
   "execution_count": 20,
   "id": "25fd7b2d",
   "metadata": {},
   "outputs": [],
   "source": [
    "y_pred = model.predict(X_test)"
   ]
  },
  {
   "cell_type": "code",
   "execution_count": 21,
   "id": "8d5953d7",
   "metadata": {},
   "outputs": [],
   "source": [
    "def plot_predictions(\n",
    "                    train_data = X_train,\n",
    "                    train_labels = y_train,\n",
    "                    test_data = X_test,\n",
    "                    test_labels = y_test,\n",
    "                    predictions = y_pred):\n",
    "    plt.scatter(train_data, train_labels, c = 'b', label = \"Training Data\")\n",
    "    plt.scatter(test_data, test_labels, c = 'g', label = 'Testing Data')\n",
    "    plt.scatter(test_data,predictions, c = 'r', label = 'Predicted Data')\n",
    "    plt.legend()"
   ]
  },
  {
   "cell_type": "code",
   "execution_count": 22,
   "id": "014177b3",
   "metadata": {},
   "outputs": [
    {
     "data": {
      "image/png": "[encoded data removed]",
      "text/plain": [
       "<Figure size 432x288 with 1 Axes>"
      ]
     },
     "metadata": {
      "needs_background": "light"
     },
     "output_type": "display_data"
    }
   ],
   "source": [
    "plot_predictions()"
   ]
  },
  {
   "cell_type": "code",
   "execution_count": 23,
   "id": "a202a35c",
   "metadata": {},
   "outputs": [
    {
     "data": {
      "text/plain": [
       "<tf.Tensor: shape=(10,), dtype=float32, numpy=\n",
       "array([17.92828  , 14.7427845, 12.359573 , 10.7786455, 10.       ,\n",
       "       10.023638 , 10.849561 , 12.477765 , 14.908252 , 18.141022 ],\n",
       "      dtype=float32)>"
      ]
     },
     "execution_count": 23,
     "metadata": {},
     "output_type": "execute_result"
    }
   ],
   "source": [
    "mae = tf.metrics.mean_absolute_error(y_true = y_test, y_pred=y_pred)\n",
    "mae"
   ]
  },
  {
   "cell_type": "code",
   "execution_count": 24,
   "id": "e8fa351e",
   "metadata": {},
   "outputs": [
    {
     "data": {
      "text/plain": [
       "<tf.Tensor: shape=(), dtype=float32, numpy=0.115336224>"
      ]
     },
     "execution_count": 24,
     "metadata": {},
     "output_type": "execute_result"
    }
   ],
   "source": [
    "mae = tf.metrics.mean_absolute_error(y_true = y_test, y_pred=tf.squeeze(y_pred))\n",
    "mae"
   ]
  },
  {
   "cell_type": "code",
   "execution_count": 25,
   "id": "a3006b4f",
   "metadata": {},
   "outputs": [
    {
     "data": {
      "text/plain": [
       "<tf.Tensor: shape=(10,), dtype=float32, numpy=\n",
       "array([452.78067, 325.33902, 229.98889, 166.73013, 135.56273, 136.48672,\n",
       "       169.50217, 234.60896, 331.80713, 461.09668], dtype=float32)>"
      ]
     },
     "execution_count": 25,
     "metadata": {},
     "output_type": "execute_result"
    }
   ],
   "source": [
    "mse = tf.metrics.mean_squared_error(y_true = y_test, y_pred = y_pred)\n",
    "mse"
   ]
  },
  {
   "cell_type": "code",
   "execution_count": 26,
   "id": "850f85d3",
   "metadata": {},
   "outputs": [
    {
     "data": {
      "text/plain": [
       "<tf.Tensor: shape=(), dtype=float32, numpy=0.01357125>"
      ]
     },
     "execution_count": 26,
     "metadata": {},
     "output_type": "execute_result"
    }
   ],
   "source": [
    "mse = tf.metrics.mean_squared_error(y_true = y_test, y_pred = tf.squeeze(y_pred))\n",
    "mse"
   ]
  },
  {
   "cell_type": "code",
   "execution_count": 27,
   "id": "14c7da36",
   "metadata": {},
   "outputs": [],
   "source": [
    "def get_metrics(y_true,y_pred):\n",
    "    mae = tf.metrics.mean_absolute_error(y_true = y_test, y_pred=tf.squeeze(y_pred))\n",
    "    mse = tf.metrics.mean_squared_error(\n",
    "        y_true=y_test, y_pred=tf.squeeze(y_pred))\n",
    "   \n",
    "    print(f'MAE for the model is {mae}')\n",
    "    print(f'MSE for the model is {mse}')\n"
   ]
  },
  {
   "cell_type": "code",
   "execution_count": 28,
   "id": "223e4745",
   "metadata": {},
   "outputs": [
    {
     "name": "stdout",
     "output_type": "stream",
     "text": [
      "MAE for the model is 0.11533622443675995\n",
      "MSE for the model is 0.01357125025242567\n"
     ]
    }
   ],
   "source": [
    "get_metrics(y_test,y_pred)"
   ]
  },
  {
   "cell_type": "code",
   "execution_count": 29,
   "id": "3c5c48ad",
   "metadata": {},
   "outputs": [
    {
     "data": {
      "text/plain": [
       "<keras.callbacks.History at 0x29398ec9670>"
      ]
     },
     "execution_count": 29,
     "metadata": {},
     "output_type": "execute_result"
    }
   ],
   "source": [
    "tf.random.set_seed(42)\n",
    "\n",
    "model_2 = tf.keras.Sequential([\n",
    "    tf.keras.layers.Dense(10),\n",
    "    tf.keras.layers.Dense(1)\n",
    "])\n",
    "\n",
    "model_2.compile(loss=tf.keras.losses.mae,\n",
    "                optimizer=tf.keras.optimizers.SGD(),\n",
    "                metrics=['mse'])\n",
    "\n",
    "model_2.fit(tf.expand_dims(X_train, axis=-1), y_train, epochs=100, verbose = 0)\n"
   ]
  },
  {
   "cell_type": "code",
   "execution_count": 30,
   "id": "4ba6d34e",
   "metadata": {},
   "outputs": [
    {
     "data": {
      "image/png": "[encoded data removed]",
      "text/plain": [
       "<Figure size 432x288 with 1 Axes>"
      ]
     },
     "metadata": {
      "needs_background": "light"
     },
     "output_type": "display_data"
    }
   ],
   "source": [
    "y_preds2 = model_2.predict(X_test)\n",
    "plot_predictions(predictions= y_preds2)"
   ]
  },
  {
   "cell_type": "code",
   "execution_count": 31,
   "id": "951bad7e",
   "metadata": {},
   "outputs": [
    {
     "name": "stdout",
     "output_type": "stream",
     "text": [
      "MAE for the model is 21.26715087890625\n",
      "MSE for the model is 462.17266845703125\n"
     ]
    }
   ],
   "source": [
    "# Calculate model 2 evaluation metrics\n",
    "get_metrics(y_test, y_preds2)"
   ]
  },
  {
   "cell_type": "markdown",
   "id": "f0ae74b2",
   "metadata": {},
   "source": [
    "Build model with 2 layers and 500 epochs"
   ]
  },
  {
   "cell_type": "code",
   "execution_count": 32,
   "id": "9caa692e",
   "metadata": {},
   "outputs": [
    {
     "data": {
      "text/plain": [
       "<keras.callbacks.History at 0x293991748b0>"
      ]
     },
     "execution_count": 32,
     "metadata": {},
     "output_type": "execute_result"
    }
   ],
   "source": [
    "tf.random.set_seed(42)\n",
    "model_3 = tf.keras.Sequential([\n",
    "    tf.keras.layers.Dense(10),\n",
    "    tf.keras.layers.Dense(1)\n",
    "])\n",
    "\n",
    "model_3.compile(loss = tf.keras.losses.mae,\n",
    "              optimizer = tf.keras.optimizers.Adam(),\n",
    "              metrics = ['mae'])\n",
    "\n",
    "model_3.fit(tf.expand_dims(X_train, axis = -1), y_train, epochs= 500, verbose = 0)"
   ]
  },
  {
   "cell_type": "code",
   "execution_count": 33,
   "id": "5d978eb0",
   "metadata": {},
   "outputs": [
    {
     "name": "stdout",
     "output_type": "stream",
     "text": [
      "WARNING:tensorflow:5 out of the last 5 calls to <function Model.make_predict_function.<locals>.predict_function at 0x00000293991EA9D0> triggered tf.function retracing. Tracing is expensive and the excessive number of tracings could be due to (1) creating @tf.function repeatedly in a loop, (2) passing tensors with different shapes, (3) passing Python objects instead of tensors. For (1), please define your @tf.function outside of the loop. For (2), @tf.function has experimental_relax_shapes=True option that relaxes argument shapes that can avoid unnecessary retracing. For (3), please refer to https://www.tensorflow.org/guide/function#controlling_retracing and https://www.tensorflow.org/api_docs/python/tf/function for  more details.\n",
      "MAE for the model is 0.027523040771484375\n",
      "MSE for the model is 0.0007730589131824672\n"
     ]
    },
    {
     "data": {
      "image/png": "[encoded data removed]",
      "text/plain": [
       "<Figure size 432x288 with 1 Axes>"
      ]
     },
     "metadata": {
      "needs_background": "light"
     },
     "output_type": "display_data"
    }
   ],
   "source": [
    "y_pred3 = model_3.predict(X_test)\n",
    "plot_predictions(predictions = y_pred3)\n",
    "get_metrics(y_test, y_pred3)"
   ]
  },
  {
   "cell_type": "markdown",
   "id": "4ba1ae6b",
   "metadata": {},
   "source": [
    "Comparing the models"
   ]
  },
  {
   "cell_type": "code",
   "execution_count": 34,
   "id": "866e8ab4",
   "metadata": {},
   "outputs": [],
   "source": [
    "def metrics2(y_true,y_pred):\n",
    "    mae = tf.metrics.mean_absolute_error(y_true = y_test, y_pred=tf.squeeze(y_pred)).numpy()\n",
    "    mse = tf.metrics.mean_squared_error(y_true=y_test, y_pred=tf.squeeze(y_pred)).numpy()\n",
    "    return mae, mse "
   ]
  },
  {
   "cell_type": "code",
   "execution_count": 35,
   "id": "1c60b959",
   "metadata": {},
   "outputs": [
    {
     "data": {
      "text/plain": [
       "0.115336224"
      ]
     },
     "execution_count": 35,
     "metadata": {},
     "output_type": "execute_result"
    }
   ],
   "source": [
    "metrics2(y_test, y_pred)[0]"
   ]
  },
  {
   "cell_type": "code",
   "execution_count": 36,
   "id": "7005de9e",
   "metadata": {},
   "outputs": [],
   "source": [
    "\n",
    "model_results = [\n",
    "    ['model' , metrics2(y_test, y_pred)[0], metrics2(y_test, y_pred)[1]],\n",
    "    ['model2', metrics2(y_test, y_preds2)[0],metrics2(y_test, y_preds2)[1]],\n",
    "    ['model3', metrics2(y_test, y_pred3)[0], metrics2(y_test, y_pred3)[1]]\n",
    "]\n"
   ]
  },
  {
   "cell_type": "code",
   "execution_count": 37,
   "id": "64fcd102",
   "metadata": {},
   "outputs": [],
   "source": [
    "all_results = pd.DataFrame(model_results, columns = ['model', 'mae', 'mse']) "
   ]
  },
  {
   "cell_type": "code",
   "execution_count": 38,
   "id": "dc52e7c9",
   "metadata": {},
   "outputs": [
    {
     "data": {
      "text/html": [
       "<div>\n",
       "<style scoped>\n",
       "    .dataframe tbody tr th:only-of-type {\n",
       "        vertical-align: middle;\n",
       "    }\n",
       "\n",
       "    .dataframe tbody tr th {\n",
       "        vertical-align: top;\n",
       "    }\n",
       "\n",
       "    .dataframe thead th {\n",
       "        text-align: right;\n",
       "    }\n",
       "</style>\n",
       "<table border=\"1\" class=\"dataframe\">\n",
       "  <thead>\n",
       "    <tr style=\"text-align: right;\">\n",
       "      <th></th>\n",
       "      <th>model</th>\n",
       "      <th>mae</th>\n",
       "      <th>mse</th>\n",
       "    </tr>\n",
       "  </thead>\n",
       "  <tbody>\n",
       "    <tr>\n",
       "      <th>0</th>\n",
       "      <td>model</td>\n",
       "      <td>0.115336</td>\n",
       "      <td>0.013571</td>\n",
       "    </tr>\n",
       "    <tr>\n",
       "      <th>1</th>\n",
       "      <td>model2</td>\n",
       "      <td>21.267151</td>\n",
       "      <td>462.172668</td>\n",
       "    </tr>\n",
       "    <tr>\n",
       "      <th>2</th>\n",
       "      <td>model3</td>\n",
       "      <td>0.027523</td>\n",
       "      <td>0.000773</td>\n",
       "    </tr>\n",
       "  </tbody>\n",
       "</table>\n",
       "</div>"
      ],
      "text/plain": [
       "    model        mae         mse\n",
       "0   model   0.115336    0.013571\n",
       "1  model2  21.267151  462.172668\n",
       "2  model3   0.027523    0.000773"
      ]
     },
     "execution_count": 38,
     "metadata": {},
     "output_type": "execute_result"
    }
   ],
   "source": [
    "all_results"
   ]
  },
  {
   "cell_type": "code",
   "execution_count": 39,
   "id": "7371c02a",
   "metadata": {},
   "outputs": [
    {
     "name": "stdout",
     "output_type": "stream",
     "text": [
      "Model: \"sequential_5\"\n",
      "_________________________________________________________________\n",
      " Layer (type)                Output Shape              Param #   \n",
      "=================================================================\n",
      " dense_8 (Dense)             (None, 10)                20        \n",
      "                                                                 \n",
      " dense_9 (Dense)             (None, 1)                 11        \n",
      "                                                                 \n",
      "=================================================================\n",
      "Total params: 31\n",
      "Trainable params: 31\n",
      "Non-trainable params: 0\n",
      "_________________________________________________________________\n"
     ]
    }
   ],
   "source": [
    "model_3.summary()"
   ]
  },
  {
   "cell_type": "markdown",
   "id": "c546f0ae",
   "metadata": {},
   "source": [
    "Saving the model"
   ]
  },
  {
   "cell_type": "code",
   "execution_count": 40,
   "id": "5c967b69",
   "metadata": {},
   "outputs": [
    {
     "name": "stdout",
     "output_type": "stream",
     "text": [
      "INFO:tensorflow:Assets written to: Saved Model 3\\assets\n"
     ]
    }
   ],
   "source": [
    "# Save model using SavedModel format\n",
    "model_3.save(\"Saved Model 3\")"
   ]
  },
  {
   "cell_type": "code",
   "execution_count": 41,
   "id": "36e517fa",
   "metadata": {},
   "outputs": [],
   "source": [
    "# Save model using HDF5 model format\n",
    "model_3.save(\"Saved model 3.h5\")"
   ]
  },
  {
   "cell_type": "markdown",
   "id": "f4df26ce",
   "metadata": {},
   "source": [
    "Loading the saved model"
   ]
  },
  {
   "cell_type": "code",
   "execution_count": 42,
   "id": "ec427321",
   "metadata": {},
   "outputs": [
    {
     "data": {
      "text/plain": [
       "<keras.engine.sequential.Sequential at 0x293c1ceafd0>"
      ]
     },
     "execution_count": 42,
     "metadata": {},
     "output_type": "execute_result"
    }
   ],
   "source": [
    "load_saved_model = tf.keras.models.load_model(\"Saved Model 3.h5\")\n",
    "load_saved_model"
   ]
  },
  {
   "cell_type": "code",
   "execution_count": 43,
   "id": "c61f8390",
   "metadata": {},
   "outputs": [
    {
     "name": "stdout",
     "output_type": "stream",
     "text": [
      "Model: \"sequential_5\"\n",
      "_________________________________________________________________\n",
      " Layer (type)                Output Shape              Param #   \n",
      "=================================================================\n",
      " dense_8 (Dense)             (None, 10)                20        \n",
      "                                                                 \n",
      " dense_9 (Dense)             (None, 1)                 11        \n",
      "                                                                 \n",
      "=================================================================\n",
      "Total params: 31\n",
      "Trainable params: 31\n",
      "Non-trainable params: 0\n",
      "_________________________________________________________________\n"
     ]
    }
   ],
   "source": [
    "load_saved_model.summary()"
   ]
  },
  {
   "cell_type": "markdown",
   "id": "47c41053",
   "metadata": {},
   "source": [
    "Working with larger dataset"
   ]
  },
  {
   "cell_type": "code",
   "execution_count": 44,
   "id": "bd4b742a",
   "metadata": {},
   "outputs": [
    {
     "data": {
      "text/html": [
       "<div>\n",
       "<style scoped>\n",
       "    .dataframe tbody tr th:only-of-type {\n",
       "        vertical-align: middle;\n",
       "    }\n",
       "\n",
       "    .dataframe tbody tr th {\n",
       "        vertical-align: top;\n",
       "    }\n",
       "\n",
       "    .dataframe thead th {\n",
       "        text-align: right;\n",
       "    }\n",
       "</style>\n",
       "<table border=\"1\" class=\"dataframe\">\n",
       "  <thead>\n",
       "    <tr style=\"text-align: right;\">\n",
       "      <th></th>\n",
       "      <th>age</th>\n",
       "      <th>sex</th>\n",
       "      <th>bmi</th>\n",
       "      <th>children</th>\n",
       "      <th>smoker</th>\n",
       "      <th>region</th>\n",
       "      <th>charges</th>\n",
       "    </tr>\n",
       "  </thead>\n",
       "  <tbody>\n",
       "    <tr>\n",
       "      <th>0</th>\n",
       "      <td>19</td>\n",
       "      <td>female</td>\n",
       "      <td>27.900</td>\n",
       "      <td>0</td>\n",
       "      <td>yes</td>\n",
       "      <td>southwest</td>\n",
       "      <td>16884.92400</td>\n",
       "    </tr>\n",
       "    <tr>\n",
       "      <th>1</th>\n",
       "      <td>18</td>\n",
       "      <td>male</td>\n",
       "      <td>33.770</td>\n",
       "      <td>1</td>\n",
       "      <td>no</td>\n",
       "      <td>southeast</td>\n",
       "      <td>1725.55230</td>\n",
       "    </tr>\n",
       "    <tr>\n",
       "      <th>2</th>\n",
       "      <td>28</td>\n",
       "      <td>male</td>\n",
       "      <td>33.000</td>\n",
       "      <td>3</td>\n",
       "      <td>no</td>\n",
       "      <td>southeast</td>\n",
       "      <td>4449.46200</td>\n",
       "    </tr>\n",
       "    <tr>\n",
       "      <th>3</th>\n",
       "      <td>33</td>\n",
       "      <td>male</td>\n",
       "      <td>22.705</td>\n",
       "      <td>0</td>\n",
       "      <td>no</td>\n",
       "      <td>northwest</td>\n",
       "      <td>21984.47061</td>\n",
       "    </tr>\n",
       "    <tr>\n",
       "      <th>4</th>\n",
       "      <td>32</td>\n",
       "      <td>male</td>\n",
       "      <td>28.880</td>\n",
       "      <td>0</td>\n",
       "      <td>no</td>\n",
       "      <td>northwest</td>\n",
       "      <td>3866.85520</td>\n",
       "    </tr>\n",
       "    <tr>\n",
       "      <th>...</th>\n",
       "      <td>...</td>\n",
       "      <td>...</td>\n",
       "      <td>...</td>\n",
       "      <td>...</td>\n",
       "      <td>...</td>\n",
       "      <td>...</td>\n",
       "      <td>...</td>\n",
       "    </tr>\n",
       "    <tr>\n",
       "      <th>1333</th>\n",
       "      <td>50</td>\n",
       "      <td>male</td>\n",
       "      <td>30.970</td>\n",
       "      <td>3</td>\n",
       "      <td>no</td>\n",
       "      <td>northwest</td>\n",
       "      <td>10600.54830</td>\n",
       "    </tr>\n",
       "    <tr>\n",
       "      <th>1334</th>\n",
       "      <td>18</td>\n",
       "      <td>female</td>\n",
       "      <td>31.920</td>\n",
       "      <td>0</td>\n",
       "      <td>no</td>\n",
       "      <td>northeast</td>\n",
       "      <td>2205.98080</td>\n",
       "    </tr>\n",
       "    <tr>\n",
       "      <th>1335</th>\n",
       "      <td>18</td>\n",
       "      <td>female</td>\n",
       "      <td>36.850</td>\n",
       "      <td>0</td>\n",
       "      <td>no</td>\n",
       "      <td>southeast</td>\n",
       "      <td>1629.83350</td>\n",
       "    </tr>\n",
       "    <tr>\n",
       "      <th>1336</th>\n",
       "      <td>21</td>\n",
       "      <td>female</td>\n",
       "      <td>25.800</td>\n",
       "      <td>0</td>\n",
       "      <td>no</td>\n",
       "      <td>southwest</td>\n",
       "      <td>2007.94500</td>\n",
       "    </tr>\n",
       "    <tr>\n",
       "      <th>1337</th>\n",
       "      <td>61</td>\n",
       "      <td>female</td>\n",
       "      <td>29.070</td>\n",
       "      <td>0</td>\n",
       "      <td>yes</td>\n",
       "      <td>northwest</td>\n",
       "      <td>29141.36030</td>\n",
       "    </tr>\n",
       "  </tbody>\n",
       "</table>\n",
       "<p>1338 rows × 7 columns</p>\n",
       "</div>"
      ],
      "text/plain": [
       "      age     sex     bmi  children smoker     region      charges\n",
       "0      19  female  27.900         0    yes  southwest  16884.92400\n",
       "1      18    male  33.770         1     no  southeast   1725.55230\n",
       "2      28    male  33.000         3     no  southeast   4449.46200\n",
       "3      33    male  22.705         0     no  northwest  21984.47061\n",
       "4      32    male  28.880         0     no  northwest   3866.85520\n",
       "...   ...     ...     ...       ...    ...        ...          ...\n",
       "1333   50    male  30.970         3     no  northwest  10600.54830\n",
       "1334   18  female  31.920         0     no  northeast   2205.98080\n",
       "1335   18  female  36.850         0     no  southeast   1629.83350\n",
       "1336   21  female  25.800         0     no  southwest   2007.94500\n",
       "1337   61  female  29.070         0    yes  northwest  29141.36030\n",
       "\n",
       "[1338 rows x 7 columns]"
      ]
     },
     "execution_count": 44,
     "metadata": {},
     "output_type": "execute_result"
    }
   ],
   "source": [
    "data_link = 'https://raw.githubusercontent.com/stedy/Machine-Learning-with-R-datasets/master/insurance.csv'\n",
    "data = pd.read_csv(data_link)\n",
    "data"
   ]
  },
  {
   "cell_type": "code",
   "execution_count": 46,
   "id": "ad87379c",
   "metadata": {},
   "outputs": [
    {
     "data": {
      "text/html": [
       "<div>\n",
       "<style scoped>\n",
       "    .dataframe tbody tr th:only-of-type {\n",
       "        vertical-align: middle;\n",
       "    }\n",
       "\n",
       "    .dataframe tbody tr th {\n",
       "        vertical-align: top;\n",
       "    }\n",
       "\n",
       "    .dataframe thead th {\n",
       "        text-align: right;\n",
       "    }\n",
       "</style>\n",
       "<table border=\"1\" class=\"dataframe\">\n",
       "  <thead>\n",
       "    <tr style=\"text-align: right;\">\n",
       "      <th></th>\n",
       "      <th>age</th>\n",
       "      <th>bmi</th>\n",
       "      <th>children</th>\n",
       "      <th>charges</th>\n",
       "      <th>sex_female</th>\n",
       "      <th>sex_male</th>\n",
       "      <th>smoker_no</th>\n",
       "      <th>smoker_yes</th>\n",
       "      <th>region_northeast</th>\n",
       "      <th>region_northwest</th>\n",
       "      <th>region_southeast</th>\n",
       "      <th>region_southwest</th>\n",
       "    </tr>\n",
       "  </thead>\n",
       "  <tbody>\n",
       "    <tr>\n",
       "      <th>0</th>\n",
       "      <td>19</td>\n",
       "      <td>27.900</td>\n",
       "      <td>0</td>\n",
       "      <td>16884.92400</td>\n",
       "      <td>1</td>\n",
       "      <td>0</td>\n",
       "      <td>0</td>\n",
       "      <td>1</td>\n",
       "      <td>0</td>\n",
       "      <td>0</td>\n",
       "      <td>0</td>\n",
       "      <td>1</td>\n",
       "    </tr>\n",
       "    <tr>\n",
       "      <th>1</th>\n",
       "      <td>18</td>\n",
       "      <td>33.770</td>\n",
       "      <td>1</td>\n",
       "      <td>1725.55230</td>\n",
       "      <td>0</td>\n",
       "      <td>1</td>\n",
       "      <td>1</td>\n",
       "      <td>0</td>\n",
       "      <td>0</td>\n",
       "      <td>0</td>\n",
       "      <td>1</td>\n",
       "      <td>0</td>\n",
       "    </tr>\n",
       "    <tr>\n",
       "      <th>2</th>\n",
       "      <td>28</td>\n",
       "      <td>33.000</td>\n",
       "      <td>3</td>\n",
       "      <td>4449.46200</td>\n",
       "      <td>0</td>\n",
       "      <td>1</td>\n",
       "      <td>1</td>\n",
       "      <td>0</td>\n",
       "      <td>0</td>\n",
       "      <td>0</td>\n",
       "      <td>1</td>\n",
       "      <td>0</td>\n",
       "    </tr>\n",
       "    <tr>\n",
       "      <th>3</th>\n",
       "      <td>33</td>\n",
       "      <td>22.705</td>\n",
       "      <td>0</td>\n",
       "      <td>21984.47061</td>\n",
       "      <td>0</td>\n",
       "      <td>1</td>\n",
       "      <td>1</td>\n",
       "      <td>0</td>\n",
       "      <td>0</td>\n",
       "      <td>1</td>\n",
       "      <td>0</td>\n",
       "      <td>0</td>\n",
       "    </tr>\n",
       "    <tr>\n",
       "      <th>4</th>\n",
       "      <td>32</td>\n",
       "      <td>28.880</td>\n",
       "      <td>0</td>\n",
       "      <td>3866.85520</td>\n",
       "      <td>0</td>\n",
       "      <td>1</td>\n",
       "      <td>1</td>\n",
       "      <td>0</td>\n",
       "      <td>0</td>\n",
       "      <td>1</td>\n",
       "      <td>0</td>\n",
       "      <td>0</td>\n",
       "    </tr>\n",
       "    <tr>\n",
       "      <th>...</th>\n",
       "      <td>...</td>\n",
       "      <td>...</td>\n",
       "      <td>...</td>\n",
       "      <td>...</td>\n",
       "      <td>...</td>\n",
       "      <td>...</td>\n",
       "      <td>...</td>\n",
       "      <td>...</td>\n",
       "      <td>...</td>\n",
       "      <td>...</td>\n",
       "      <td>...</td>\n",
       "      <td>...</td>\n",
       "    </tr>\n",
       "    <tr>\n",
       "      <th>1333</th>\n",
       "      <td>50</td>\n",
       "      <td>30.970</td>\n",
       "      <td>3</td>\n",
       "      <td>10600.54830</td>\n",
       "      <td>0</td>\n",
       "      <td>1</td>\n",
       "      <td>1</td>\n",
       "      <td>0</td>\n",
       "      <td>0</td>\n",
       "      <td>1</td>\n",
       "      <td>0</td>\n",
       "      <td>0</td>\n",
       "    </tr>\n",
       "    <tr>\n",
       "      <th>1334</th>\n",
       "      <td>18</td>\n",
       "      <td>31.920</td>\n",
       "      <td>0</td>\n",
       "      <td>2205.98080</td>\n",
       "      <td>1</td>\n",
       "      <td>0</td>\n",
       "      <td>1</td>\n",
       "      <td>0</td>\n",
       "      <td>1</td>\n",
       "      <td>0</td>\n",
       "      <td>0</td>\n",
       "      <td>0</td>\n",
       "    </tr>\n",
       "    <tr>\n",
       "      <th>1335</th>\n",
       "      <td>18</td>\n",
       "      <td>36.850</td>\n",
       "      <td>0</td>\n",
       "      <td>1629.83350</td>\n",
       "      <td>1</td>\n",
       "      <td>0</td>\n",
       "      <td>1</td>\n",
       "      <td>0</td>\n",
       "      <td>0</td>\n",
       "      <td>0</td>\n",
       "      <td>1</td>\n",
       "      <td>0</td>\n",
       "    </tr>\n",
       "    <tr>\n",
       "      <th>1336</th>\n",
       "      <td>21</td>\n",
       "      <td>25.800</td>\n",
       "      <td>0</td>\n",
       "      <td>2007.94500</td>\n",
       "      <td>1</td>\n",
       "      <td>0</td>\n",
       "      <td>1</td>\n",
       "      <td>0</td>\n",
       "      <td>0</td>\n",
       "      <td>0</td>\n",
       "      <td>0</td>\n",
       "      <td>1</td>\n",
       "    </tr>\n",
       "    <tr>\n",
       "      <th>1337</th>\n",
       "      <td>61</td>\n",
       "      <td>29.070</td>\n",
       "      <td>0</td>\n",
       "      <td>29141.36030</td>\n",
       "      <td>1</td>\n",
       "      <td>0</td>\n",
       "      <td>0</td>\n",
       "      <td>1</td>\n",
       "      <td>0</td>\n",
       "      <td>1</td>\n",
       "      <td>0</td>\n",
       "      <td>0</td>\n",
       "    </tr>\n",
       "  </tbody>\n",
       "</table>\n",
       "<p>1338 rows × 12 columns</p>\n",
       "</div>"
      ],
      "text/plain": [
       "      age     bmi  children      charges  sex_female  sex_male  smoker_no  \\\n",
       "0      19  27.900         0  16884.92400           1         0          0   \n",
       "1      18  33.770         1   1725.55230           0         1          1   \n",
       "2      28  33.000         3   4449.46200           0         1          1   \n",
       "3      33  22.705         0  21984.47061           0         1          1   \n",
       "4      32  28.880         0   3866.85520           0         1          1   \n",
       "...   ...     ...       ...          ...         ...       ...        ...   \n",
       "1333   50  30.970         3  10600.54830           0         1          1   \n",
       "1334   18  31.920         0   2205.98080           1         0          1   \n",
       "1335   18  36.850         0   1629.83350           1         0          1   \n",
       "1336   21  25.800         0   2007.94500           1         0          1   \n",
       "1337   61  29.070         0  29141.36030           1         0          0   \n",
       "\n",
       "      smoker_yes  region_northeast  region_northwest  region_southeast  \\\n",
       "0              1                 0                 0                 0   \n",
       "1              0                 0                 0                 1   \n",
       "2              0                 0                 0                 1   \n",
       "3              0                 0                 1                 0   \n",
       "4              0                 0                 1                 0   \n",
       "...          ...               ...               ...               ...   \n",
       "1333           0                 0                 1                 0   \n",
       "1334           0                 1                 0                 0   \n",
       "1335           0                 0                 0                 1   \n",
       "1336           0                 0                 0                 0   \n",
       "1337           1                 0                 1                 0   \n",
       "\n",
       "      region_southwest  \n",
       "0                    1  \n",
       "1                    0  \n",
       "2                    0  \n",
       "3                    0  \n",
       "4                    0  \n",
       "...                ...  \n",
       "1333                 0  \n",
       "1334                 0  \n",
       "1335                 0  \n",
       "1336                 1  \n",
       "1337                 0  \n",
       "\n",
       "[1338 rows x 12 columns]"
      ]
     },
     "execution_count": 46,
     "metadata": {},
     "output_type": "execute_result"
    }
   ],
   "source": [
    "data = pd.get_dummies(data)\n",
    "data"
   ]
  },
  {
   "cell_type": "code",
   "execution_count": 47,
   "id": "ea2353e9",
   "metadata": {},
   "outputs": [],
   "source": [
    "X = data.drop('charges', axis = 1)\n",
    "y = data['charges']\n",
    "from sklearn.model_selection import train_test_split\n",
    "X_train, X_test, y_train, y_test = train_test_split(X, y, random_state = 42,test_size = 0.2)\n",
    "\n",
    " "
   ]
  },
  {
   "cell_type": "code",
   "execution_count": 48,
   "id": "eb2eca07",
   "metadata": {},
   "outputs": [
    {
     "name": "stdout",
     "output_type": "stream",
     "text": [
      "Lenght of <generator object DataFrame.items at 0x000002939AE9C510> is 1070\n",
      "Lenght of <generator object DataFrame.items at 0x000002939AE9C040> is 268\n",
      "Lenght of <zip object at 0x0000029397B95140> is 1070\n",
      "Lenght of <zip object at 0x000002939AEA9380> is 268\n"
     ]
    }
   ],
   "source": [
    "split_data = [X_train, X_test,y_train, y_test]\n",
    "for i in split_data:\n",
    "    print(f'Lenght of {i.items()} is {len(i)}')"
   ]
  },
  {
   "cell_type": "code",
   "execution_count": 51,
   "id": "16869f0f",
   "metadata": {},
   "outputs": [
    {
     "name": "stderr",
     "output_type": "stream",
     "text": [
      "c:\\Users\\avirupsaha\\anaconda3\\lib\\site-packages\\keras\\optimizer_v2\\adam.py:105: UserWarning: The `lr` argument is deprecated, use `learning_rate` instead.\n",
      "  super(Adam, self).__init__(name, **kwargs)\n"
     ]
    }
   ],
   "source": [
    "# Build a model for this dataset\n",
    "\n",
    "tf.random.set_seed(42)\n",
    "\n",
    "insurance_model = tf.keras.Sequential([\n",
    "    tf.keras.layers.Dense(100, activation = 'relu'),\n",
    "    tf.keras.layers.Dense(1)\n",
    "])\n",
    "\n",
    "insurance_model.compile(loss = tf.keras.losses.mae,\n",
    "                        optimizer = tf.keras.optimizers.Adam(lr = 0.001),\n",
    "                        metrics = ['mae'])\n"
   ]
  },
  {
   "cell_type": "code",
   "execution_count": null,
   "id": "d1024ad9",
   "metadata": {},
   "outputs": [],
   "source": [
    "insurance_model.fit(X_train, y_train,epochs=100)"
   ]
  },
  {
   "cell_type": "code",
   "execution_count": 54,
   "id": "07ecfd20",
   "metadata": {},
   "outputs": [
    {
     "name": "stdout",
     "output_type": "stream",
     "text": [
      "9/9 [==============================] - 0s 0s/step - loss: 6862.7446 - mae: 6862.7446 - accuracy: 0.0000e+00\n"
     ]
    },
    {
     "data": {
      "text/plain": [
       "[6862.74462890625, 6862.74462890625, 0.0]"
      ]
     },
     "execution_count": 54,
     "metadata": {},
     "output_type": "execute_result"
    }
   ],
   "source": [
    "insurance_model.evaluate(X_test, y_test)"
   ]
  },
  {
   "cell_type": "code",
   "execution_count": 81,
   "id": "6189b3e7",
   "metadata": {},
   "outputs": [
    {
     "name": "stderr",
     "output_type": "stream",
     "text": [
      "c:\\Users\\avirupsaha\\anaconda3\\lib\\site-packages\\keras\\optimizer_v2\\adam.py:105: UserWarning: The `lr` argument is deprecated, use `learning_rate` instead.\n",
      "  super(Adam, self).__init__(name, **kwargs)\n"
     ]
    }
   ],
   "source": [
    "#Imporving the model\n",
    "tf.random.set_seed(42)\n",
    "\n",
    "insurance_model_2 = tf.keras.Sequential([\n",
    "    tf.keras.layers.Dense(100, activation = 'relu'),\n",
    "    tf.keras.layers.Dense(10, activation = 'relu'),\n",
    "    tf.keras.layers.Dense(1)\n",
    "])\n",
    "\n",
    "insurance_model_2.compile(loss = tf.keras.losses.mae,\n",
    "                        optimizer = tf.keras.optimizers.Adam(learning_rate = 0.001),\n",
    "                        metrics = ['mae'])"
   ]
  },
  {
   "cell_type": "code",
   "execution_count": 82,
   "id": "7b770da9",
   "metadata": {},
   "outputs": [],
   "source": [
    "history = insurance_model_2.fit(X_train, y_train, epochs=500,validation_split=0.33,batch_size=10, verbose = 0)\n"
   ]
  },
  {
   "cell_type": "code",
   "execution_count": 83,
   "id": "fe8de747",
   "metadata": {},
   "outputs": [
    {
     "name": "stdout",
     "output_type": "stream",
     "text": [
      "9/9 [==============================] - 0s 1ms/step - loss: 2311.6389 - mae: 2311.6389\n"
     ]
    },
    {
     "data": {
      "text/plain": [
       "[2311.638916015625, 2311.638916015625]"
      ]
     },
     "execution_count": 83,
     "metadata": {},
     "output_type": "execute_result"
    }
   ],
   "source": [
    "insurance_model_2.evaluate(X_test, y_test)"
   ]
  },
  {
   "cell_type": "code",
   "execution_count": 70,
   "id": "29b318aa",
   "metadata": {},
   "outputs": [
    {
     "name": "stdout",
     "output_type": "stream",
     "text": [
      "dict_keys(['loss', 'mae', 'val_loss', 'val_mae'])\n"
     ]
    }
   ],
   "source": [
    "print(history.history.keys())"
   ]
  },
  {
   "cell_type": "code",
   "execution_count": 77,
   "id": "3ba06a91",
   "metadata": {},
   "outputs": [],
   "source": [
    "def plot_model_training(model):\n",
    "    plt.plot(model.history['mae'])\n",
    "    plt.plot(model.history['val_mae'])\n",
    "    plt.title('model MAE')\n",
    "    plt.ylabel('accuracy')\n",
    "    plt.xlabel('mae')\n",
    "    plt.legend(['train', 'test'], loc='upper right')\n",
    "    plt.show()\n",
    "    \n",
    "    plt.plot(history.history['loss'])\n",
    "    plt.plot(history.history['val_loss'])\n",
    "    plt.title('model loss')\n",
    "    plt.ylabel('loss')\n",
    "    plt.xlabel('epoch')\n",
    "    plt.legend(['train', 'test'], loc='upper right')\n",
    "    plt.show()"
   ]
  },
  {
   "cell_type": "code",
   "execution_count": 84,
   "id": "2cc1a979",
   "metadata": {},
   "outputs": [
    {
     "data": {
      "image/png": "[encoded data removed]",
      "text/plain": [
       "<Figure size 432x288 with 1 Axes>"
      ]
     },
     "metadata": {
      "needs_background": "light"
     },
     "output_type": "display_data"
    },
    {
     "data": {
      "image/png": "[encoded data removed]",
      "text/plain": [
       "<Figure size 432x288 with 1 Axes>"
      ]
     },
     "metadata": {
      "needs_background": "light"
     },
     "output_type": "display_data"
    }
   ],
   "source": [
    "plot_model_training(history)"
   ]
  },
  {
   "cell_type": "code",
   "execution_count": 87,
   "id": "9b7ddb4f",
   "metadata": {},
   "outputs": [
    {
     "data": {
      "image/png": "[encoded data removed]",
      "text/plain": [
       "<Figure size 432x288 with 1 Axes>"
      ]
     },
     "metadata": {
      "needs_background": "light"
     },
     "output_type": "display_data"
    },
    {
     "data": {
      "image/png": "[encoded data removed]",
      "text/plain": [
       "<Figure size 432x288 with 1 Axes>"
      ]
     },
     "metadata": {
      "needs_background": "light"
     },
     "output_type": "display_data"
    }
   ],
   "source": [
    "# Training the model with the early stopping callback function\n",
    "\n",
    "callback = tf.keras.callbacks.EarlyStopping(monitor='loss', patience=3)\n",
    "# Callbacks are used when we want to stop the trainig when there is no imporvement on the loss function or any other metrics that is supplied to the monitor parameter\n",
    "tf.random.set_seed(42)\n",
    "\n",
    "insurance_model_3 = tf.keras.Sequential([\n",
    "    tf.keras.layers.Dense(100, activation = 'relu'),\n",
    "    tf.keras.layers.Dense(10, activation = 'relu'),\n",
    "    tf.keras.layers.Dense(1)\n",
    "])\n",
    "\n",
    "insurance_model_3.compile(loss = tf.keras.losses.mae,\n",
    "                        optimizer = tf.keras.optimizers.Adam(learning_rate = 0.001),\n",
    "                        metrics = ['mae'])\n",
    "\n",
    "history2 = insurance_model_3.fit(X_train, y_train, epochs=1000,validation_split=0.33,batch_size=10, callbacks=[callback], verbose = 0)\n",
    "\n",
    "plot_model_training(history2)\n"
   ]
  },
  {
   "cell_type": "code",
   "execution_count": 88,
   "id": "369c28f5",
   "metadata": {},
   "outputs": [
    {
     "data": {
      "text/plain": [
       "500"
      ]
     },
     "execution_count": 88,
     "metadata": {},
     "output_type": "execute_result"
    }
   ],
   "source": [
    "len(history.history['loss']) \n",
    "# Training stopped after 500 epochs"
   ]
  },
  {
   "cell_type": "code",
   "execution_count": 89,
   "id": "4a9671da",
   "metadata": {},
   "outputs": [
    {
     "name": "stdout",
     "output_type": "stream",
     "text": [
      "9/9 [==============================] - 0s 2ms/step - loss: 2463.6567 - mae: 2463.6567\n"
     ]
    },
    {
     "data": {
      "text/plain": [
       "[2463.65673828125, 2463.65673828125]"
      ]
     },
     "execution_count": 89,
     "metadata": {},
     "output_type": "execute_result"
    }
   ],
   "source": [
    "insurance_model_3.evaluate(X_test, y_test)"
   ]
  },
  {
   "cell_type": "markdown",
   "id": "227d5dd8",
   "metadata": {},
   "source": [
    "Preprocessing -> Normalization and Standardization"
   ]
  },
  {
   "cell_type": "code",
   "execution_count": 91,
   "id": "e33b251d",
   "metadata": {},
   "outputs": [],
   "source": [
    "from sklearn.compose import make_column_transformer\n",
    "from sklearn.preprocessing import MinMaxScaler, OneHotEncoder, StandardScaler\n",
    "\n",
    "data_link = 'https://raw.githubusercontent.com/stedy/Machine-Learning-with-R-datasets/master/insurance.csv'\n",
    "data = pd.read_csv(data_link)\n",
    "\n",
    "X = data.drop('charges', axis = 1)\n",
    "y = data['charges']\n",
    "X_train, X_test, y_train, y_test = train_test_split(X, y, random_state = 42,test_size = 0.2)\n",
    "\n",
    "ct = make_column_transformer(\n",
    "    (MinMaxScaler(),['age','bmi','children']),\n",
    "    (OneHotEncoder(handle_unknown='ignore'),['sex','smoker','region'])\n",
    ")\n"
   ]
  },
  {
   "cell_type": "code",
   "execution_count": 92,
   "id": "b774d8f6",
   "metadata": {},
   "outputs": [
    {
     "data": {
      "text/plain": [
       "ColumnTransformer(transformers=[('minmaxscaler', MinMaxScaler(),\n",
       "                                 ['age', 'bmi', 'children']),\n",
       "                                ('onehotencoder',\n",
       "                                 OneHotEncoder(handle_unknown='ignore'),\n",
       "                                 ['sex', 'smoker', 'region'])])"
      ]
     },
     "execution_count": 92,
     "metadata": {},
     "output_type": "execute_result"
    }
   ],
   "source": [
    "# Fit the column transformer in our training data \n",
    "ct.fit(X_train) "
   ]
  },
  {
   "cell_type": "code",
   "execution_count": 94,
   "id": "feb29328",
   "metadata": {},
   "outputs": [],
   "source": [
    "#Normalization of training and testing data\n",
    "X_train_normal = ct.transform(X_train)\n",
    "X_test_normal = ct.transform(X_test)"
   ]
  },
  {
   "cell_type": "code",
   "execution_count": 95,
   "id": "65909b87",
   "metadata": {},
   "outputs": [
    {
     "data": {
      "image/png": "[encoded data removed]",
      "text/plain": [
       "<Figure size 432x288 with 1 Axes>"
      ]
     },
     "metadata": {
      "needs_background": "light"
     },
     "output_type": "display_data"
    },
    {
     "data": {
      "image/png": "[encoded data removed]",
      "text/plain": [
       "<Figure size 432x288 with 1 Axes>"
      ]
     },
     "metadata": {
      "needs_background": "light"
     },
     "output_type": "display_data"
    },
    {
     "name": "stdout",
     "output_type": "stream",
     "text": [
      "9/9 [==============================] - 0s 1ms/step - loss: 2871.6687 - mae: 2871.6687\n"
     ]
    },
    {
     "data": {
      "text/plain": [
       "[2871.668701171875, 2871.668701171875]"
      ]
     },
     "execution_count": 95,
     "metadata": {},
     "output_type": "execute_result"
    }
   ],
   "source": [
    "# Building a model on normalized data\n",
    "tf.random.set_seed(42)\n",
    "\n",
    "insurance_model_4 = tf.keras.Sequential([\n",
    "    tf.keras.layers.Dense(100, activation = 'relu'),\n",
    "    tf.keras.layers.Dense(10, activation = 'relu'),\n",
    "    tf.keras.layers.Dense(1)\n",
    "])\n",
    "\n",
    "insurance_model_4.compile(loss = tf.keras.losses.mae,\n",
    "                        optimizer = tf.keras.optimizers.Adam(learning_rate = 0.001),\n",
    "                        metrics = ['mae'])\n",
    "\n",
    "history3 = insurance_model_4.fit(X_train_normal, y_train, epochs=1000,validation_split=0.33,batch_size=10, callbacks=[callback], verbose = 0)\n",
    "\n",
    "plot_model_training(history3)\n",
    "\n",
    "insurance_model_4.evaluate(X_test_normal, y_test)"
   ]
  },
  {
   "cell_type": "code",
   "execution_count": null,
   "id": "219a990c",
   "metadata": {},
   "outputs": [],
   "source": []
  }
 ],
 "metadata": {
  "kernelspec": {
   "display_name": "Python 3.9.12 ('base')",
   "language": "python",
   "name": "python3"
  },
  "language_info": {
   "codemirror_mode": {
    "name": "ipython",
    "version": 3
   },
   "file_extension": ".py",
   "mimetype": "text/x-python",
   "name": "python",
   "nbconvert_exporter": "python",
   "pygments_lexer": "ipython3",
   "version": "3.9.12"
  },
  "vscode": {
   "interpreter": {
    "hash": "f57216576594de1bdeb2048f1c154f84c4a9ef50625dd9186d026c4d54398263"
   }
  }
 },
 "nbformat": 4,
 "nbformat_minor": 5
}
