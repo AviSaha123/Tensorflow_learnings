{
 "cells": [
  {
   "cell_type": "code",
   "execution_count": 1,
   "id": "c94685d7",
   "metadata": {},
   "outputs": [],
   "source": [
    "import tensorflow as tf\n",
    "import matplotlib.pyplot as plt \n",
    "import numpy as np"
   ]
  },
  {
   "cell_type": "code",
   "execution_count": 2,
   "id": "864960f6",
   "metadata": {},
   "outputs": [
    {
     "data": {
      "image/png": "[encoded data removed]",
      "text/plain": [
       "<Figure size 432x288 with 1 Axes>"
      ]
     },
     "metadata": {
      "needs_background": "light"
     },
     "output_type": "display_data"
    }
   ],
   "source": [
    "X = np.array([-7.0, -4.0, -1.0, 2.0, 5.0, 8.0, 11.0, 14.0])\n",
    "\n",
    "# Create labels\n",
    "y = np.array([3.0, 6.0, 9.0, 12.0, 15.0, 18.0, 21.0, 24.0])\n",
    "\n",
    "# Visualize it\n",
    "plt.scatter(X, y);"
   ]
  },
  {
   "cell_type": "code",
   "execution_count": 3,
   "id": "f0522a9a",
   "metadata": {},
   "outputs": [],
   "source": [
    "X = tf.constant([-7.0, -4.0, -1.0, 2.0, 5.0, 8.0, 11.0, 14.0])\n",
    "y = tf.constant([3.0, 6.0, 9.0, 12.0, 15.0, 18.0, 21.0, 24.0])\n"
   ]
  },
  {
   "cell_type": "code",
   "execution_count": 4,
   "id": "e8aab9f1",
   "metadata": {},
   "outputs": [
    {
     "name": "stdout",
     "output_type": "stream",
     "text": [
      "Epoch 1/100\n",
      "1/1 [==============================] - 1s 822ms/step - loss: 11.5048 - mae: 11.5048\n",
      "Epoch 2/100\n",
      "1/1 [==============================] - 0s 6ms/step - loss: 11.3723 - mae: 11.3723\n",
      "Epoch 3/100\n",
      "1/1 [==============================] - 0s 8ms/step - loss: 11.2398 - mae: 11.2398\n",
      "Epoch 4/100\n",
      "1/1 [==============================] - 0s 7ms/step - loss: 11.1073 - mae: 11.1073\n",
      "Epoch 5/100\n",
      "1/1 [==============================] - 0s 6ms/step - loss: 10.9748 - mae: 10.9748\n",
      "Epoch 6/100\n",
      "1/1 [==============================] - 0s 5ms/step - loss: 10.8423 - mae: 10.8423\n",
      "Epoch 7/100\n",
      "1/1 [==============================] - 0s 7ms/step - loss: 10.7098 - mae: 10.7098\n",
      "Epoch 8/100\n",
      "1/1 [==============================] - 0s 997us/step - loss: 10.5773 - mae: 10.5773\n",
      "Epoch 9/100\n",
      "1/1 [==============================] - 0s 5ms/step - loss: 10.4448 - mae: 10.4448\n",
      "Epoch 10/100\n",
      "1/1 [==============================] - 0s 149ms/step - loss: 10.3123 - mae: 10.3123\n",
      "Epoch 11/100\n",
      "1/1 [==============================] - 0s 5ms/step - loss: 10.1798 - mae: 10.1798\n",
      "Epoch 12/100\n",
      "1/1 [==============================] - 0s 6ms/step - loss: 10.0473 - mae: 10.0473\n",
      "Epoch 13/100\n",
      "1/1 [==============================] - 0s 5ms/step - loss: 9.9148 - mae: 9.9148\n",
      "Epoch 14/100\n",
      "1/1 [==============================] - 0s 6ms/step - loss: 9.7823 - mae: 9.7823\n",
      "Epoch 15/100\n",
      "1/1 [==============================] - 0s 6ms/step - loss: 9.6498 - mae: 9.6498\n",
      "Epoch 16/100\n",
      "1/1 [==============================] - 0s 16ms/step - loss: 9.5173 - mae: 9.5173\n",
      "Epoch 17/100\n",
      "1/1 [==============================] - 0s 8ms/step - loss: 9.3848 - mae: 9.3848\n",
      "Epoch 18/100\n",
      "1/1 [==============================] - 0s 0s/step - loss: 9.2523 - mae: 9.2523\n",
      "Epoch 19/100\n",
      "1/1 [==============================] - 0s 0s/step - loss: 9.1198 - mae: 9.1198\n",
      "Epoch 20/100\n",
      "1/1 [==============================] - 0s 0s/step - loss: 8.9873 - mae: 8.9873\n",
      "Epoch 21/100\n",
      "1/1 [==============================] - 0s 8ms/step - loss: 8.8548 - mae: 8.8548\n",
      "Epoch 22/100\n",
      "1/1 [==============================] - 0s 8ms/step - loss: 8.7223 - mae: 8.7223\n",
      "Epoch 23/100\n",
      "1/1 [==============================] - 0s 10ms/step - loss: 8.5898 - mae: 8.5898\n",
      "Epoch 24/100\n",
      "1/1 [==============================] - 0s 0s/step - loss: 8.4573 - mae: 8.4573\n",
      "Epoch 25/100\n",
      "1/1 [==============================] - 0s 9ms/step - loss: 8.3248 - mae: 8.3248\n",
      "Epoch 26/100\n",
      "1/1 [==============================] - 0s 10ms/step - loss: 8.1923 - mae: 8.1923\n",
      "Epoch 27/100\n",
      "1/1 [==============================] - 0s 7ms/step - loss: 8.0598 - mae: 8.0598\n",
      "Epoch 28/100\n",
      "1/1 [==============================] - 0s 16ms/step - loss: 7.9273 - mae: 7.9273\n",
      "Epoch 29/100\n",
      "1/1 [==============================] - 0s 14ms/step - loss: 7.7948 - mae: 7.7948\n",
      "Epoch 30/100\n",
      "1/1 [==============================] - 0s 6ms/step - loss: 7.6623 - mae: 7.6623\n",
      "Epoch 31/100\n",
      "1/1 [==============================] - 0s 6ms/step - loss: 7.5298 - mae: 7.5298\n",
      "Epoch 32/100\n",
      "1/1 [==============================] - 0s 5ms/step - loss: 7.3973 - mae: 7.3973\n",
      "Epoch 33/100\n",
      "1/1 [==============================] - 0s 5ms/step - loss: 7.2648 - mae: 7.2648\n",
      "Epoch 34/100\n",
      "1/1 [==============================] - 0s 12ms/step - loss: 7.2525 - mae: 7.2525\n",
      "Epoch 35/100\n",
      "1/1 [==============================] - 0s 6ms/step - loss: 7.2469 - mae: 7.2469\n",
      "Epoch 36/100\n",
      "1/1 [==============================] - 0s 5ms/step - loss: 7.2413 - mae: 7.2413\n",
      "Epoch 37/100\n",
      "1/1 [==============================] - 0s 6ms/step - loss: 7.2356 - mae: 7.2356\n",
      "Epoch 38/100\n",
      "1/1 [==============================] - 0s 5ms/step - loss: 7.2300 - mae: 7.2300\n",
      "Epoch 39/100\n",
      "1/1 [==============================] - 0s 6ms/step - loss: 7.2244 - mae: 7.2244\n",
      "Epoch 40/100\n",
      "1/1 [==============================] - 0s 5ms/step - loss: 7.2188 - mae: 7.2188\n",
      "Epoch 41/100\n",
      "1/1 [==============================] - 0s 6ms/step - loss: 7.2131 - mae: 7.2131\n",
      "Epoch 42/100\n",
      "1/1 [==============================] - 0s 5ms/step - loss: 7.2075 - mae: 7.2075\n",
      "Epoch 43/100\n",
      "1/1 [==============================] - 0s 5ms/step - loss: 7.2019 - mae: 7.2019\n",
      "Epoch 44/100\n",
      "1/1 [==============================] - 0s 4ms/step - loss: 7.1963 - mae: 7.1963\n",
      "Epoch 45/100\n",
      "1/1 [==============================] - 0s 5ms/step - loss: 7.1906 - mae: 7.1906\n",
      "Epoch 46/100\n",
      "1/1 [==============================] - 0s 5ms/step - loss: 7.1850 - mae: 7.1850\n",
      "Epoch 47/100\n",
      "1/1 [==============================] - 0s 6ms/step - loss: 7.1794 - mae: 7.1794\n",
      "Epoch 48/100\n",
      "1/1 [==============================] - 0s 5ms/step - loss: 7.1738 - mae: 7.1738\n",
      "Epoch 49/100\n",
      "1/1 [==============================] - 0s 8ms/step - loss: 7.1681 - mae: 7.1681\n",
      "Epoch 50/100\n",
      "1/1 [==============================] - 0s 2ms/step - loss: 7.1625 - mae: 7.1625\n",
      "Epoch 51/100\n",
      "1/1 [==============================] - 0s 5ms/step - loss: 7.1569 - mae: 7.1569\n",
      "Epoch 52/100\n",
      "1/1 [==============================] - 0s 8ms/step - loss: 7.1512 - mae: 7.1512\n",
      "Epoch 53/100\n",
      "1/1 [==============================] - 0s 3ms/step - loss: 7.1456 - mae: 7.1456\n",
      "Epoch 54/100\n",
      "1/1 [==============================] - 0s 12ms/step - loss: 7.1400 - mae: 7.1400\n",
      "Epoch 55/100\n",
      "1/1 [==============================] - 0s 11ms/step - loss: 7.1344 - mae: 7.1344\n",
      "Epoch 56/100\n",
      "1/1 [==============================] - 0s 6ms/step - loss: 7.1287 - mae: 7.1287\n",
      "Epoch 57/100\n",
      "1/1 [==============================] - 0s 5ms/step - loss: 7.1231 - mae: 7.1231\n",
      "Epoch 58/100\n",
      "1/1 [==============================] - 0s 8ms/step - loss: 7.1175 - mae: 7.1175\n",
      "Epoch 59/100\n",
      "1/1 [==============================] - 0s 8ms/step - loss: 7.1119 - mae: 7.1119\n",
      "Epoch 60/100\n",
      "1/1 [==============================] - 0s 12ms/step - loss: 7.1063 - mae: 7.1063\n",
      "Epoch 61/100\n",
      "1/1 [==============================] - 0s 9ms/step - loss: 7.1006 - mae: 7.1006\n",
      "Epoch 62/100\n",
      "1/1 [==============================] - 0s 10ms/step - loss: 7.0950 - mae: 7.0950\n",
      "Epoch 63/100\n",
      "1/1 [==============================] - 0s 3ms/step - loss: 7.0894 - mae: 7.0894\n",
      "Epoch 64/100\n",
      "1/1 [==============================] - 0s 9ms/step - loss: 7.0838 - mae: 7.0838\n",
      "Epoch 65/100\n",
      "1/1 [==============================] - 0s 10ms/step - loss: 7.0781 - mae: 7.0781\n",
      "Epoch 66/100\n",
      "1/1 [==============================] - 0s 7ms/step - loss: 7.0725 - mae: 7.0725\n",
      "Epoch 67/100\n",
      "1/1 [==============================] - 0s 8ms/step - loss: 7.0669 - mae: 7.0669\n",
      "Epoch 68/100\n",
      "1/1 [==============================] - 0s 10ms/step - loss: 7.0613 - mae: 7.0613\n",
      "Epoch 69/100\n",
      "1/1 [==============================] - 0s 5ms/step - loss: 7.0556 - mae: 7.0556\n",
      "Epoch 70/100\n",
      "1/1 [==============================] - 0s 8ms/step - loss: 7.0500 - mae: 7.0500\n",
      "Epoch 71/100\n",
      "1/1 [==============================] - 0s 5ms/step - loss: 7.0444 - mae: 7.0444\n",
      "Epoch 72/100\n",
      "1/1 [==============================] - 0s 8ms/step - loss: 7.0388 - mae: 7.0388\n",
      "Epoch 73/100\n",
      "1/1 [==============================] - 0s 7ms/step - loss: 7.0331 - mae: 7.0331\n",
      "Epoch 74/100\n",
      "1/1 [==============================] - 0s 32ms/step - loss: 7.0275 - mae: 7.0275\n",
      "Epoch 75/100\n",
      "1/1 [==============================] - 0s 8ms/step - loss: 7.0219 - mae: 7.0219\n",
      "Epoch 76/100\n",
      "1/1 [==============================] - 0s 8ms/step - loss: 7.0163 - mae: 7.0163\n",
      "Epoch 77/100\n",
      "1/1 [==============================] - 0s 8ms/step - loss: 7.0106 - mae: 7.0106\n",
      "Epoch 78/100\n",
      "1/1 [==============================] - 0s 8ms/step - loss: 7.0050 - mae: 7.0050\n",
      "Epoch 79/100\n",
      "1/1 [==============================] - 0s 16ms/step - loss: 6.9994 - mae: 6.9994\n",
      "Epoch 80/100\n",
      "1/1 [==============================] - 0s 24ms/step - loss: 6.9938 - mae: 6.9938\n",
      "Epoch 81/100\n",
      "1/1 [==============================] - 0s 8ms/step - loss: 6.9881 - mae: 6.9881\n",
      "Epoch 82/100\n",
      "1/1 [==============================] - 0s 0s/step - loss: 6.9825 - mae: 6.9825\n",
      "Epoch 83/100\n",
      "1/1 [==============================] - 0s 0s/step - loss: 6.9769 - mae: 6.9769\n",
      "Epoch 84/100\n",
      "1/1 [==============================] - 0s 3ms/step - loss: 6.9713 - mae: 6.9713\n",
      "Epoch 85/100\n",
      "1/1 [==============================] - 0s 0s/step - loss: 6.9656 - mae: 6.9656\n",
      "Epoch 86/100\n",
      "1/1 [==============================] - 0s 9ms/step - loss: 6.9600 - mae: 6.9600\n",
      "Epoch 87/100\n",
      "1/1 [==============================] - 0s 8ms/step - loss: 6.9544 - mae: 6.9544\n",
      "Epoch 88/100\n",
      "1/1 [==============================] - 0s 8ms/step - loss: 6.9488 - mae: 6.9488\n",
      "Epoch 89/100\n",
      "1/1 [==============================] - 0s 8ms/step - loss: 6.9431 - mae: 6.9431\n",
      "Epoch 90/100\n",
      "1/1 [==============================] - 0s 8ms/step - loss: 6.9375 - mae: 6.9375\n",
      "Epoch 91/100\n",
      "1/1 [==============================] - 0s 8ms/step - loss: 6.9319 - mae: 6.9319\n",
      "Epoch 92/100\n",
      "1/1 [==============================] - 0s 13ms/step - loss: 6.9263 - mae: 6.9263\n",
      "Epoch 93/100\n",
      "1/1 [==============================] - 0s 998us/step - loss: 6.9206 - mae: 6.9206\n",
      "Epoch 94/100\n",
      "1/1 [==============================] - 0s 5ms/step - loss: 6.9150 - mae: 6.9150\n",
      "Epoch 95/100\n",
      "1/1 [==============================] - 0s 14ms/step - loss: 6.9094 - mae: 6.9094\n",
      "Epoch 96/100\n",
      "1/1 [==============================] - 0s 6ms/step - loss: 6.9038 - mae: 6.9038\n",
      "Epoch 97/100\n",
      "1/1 [==============================] - 0s 8ms/step - loss: 6.8981 - mae: 6.8981\n",
      "Epoch 98/100\n",
      "1/1 [==============================] - 0s 9ms/step - loss: 6.8925 - mae: 6.8925\n",
      "Epoch 99/100\n",
      "1/1 [==============================] - 0s 5ms/step - loss: 6.8869 - mae: 6.8869\n",
      "Epoch 100/100\n",
      "1/1 [==============================] - 0s 8ms/step - loss: 6.8813 - mae: 6.8813\n"
     ]
    },
    {
     "data": {
      "text/plain": [
       "<keras.callbacks.History at 0x2970eab0160>"
      ]
     },
     "execution_count": 4,
     "metadata": {},
     "output_type": "execute_result"
    }
   ],
   "source": [
    "# Set random seed\n",
    "tf.random.set_seed(42)\n",
    "\n",
    "model = tf.keras.Sequential([\n",
    "    tf.keras.layers.Dense(1)\n",
    "])\n",
    "\n",
    "model.compile(loss = tf.losses.mae,\n",
    "              optimizer = tf.keras.optimizers.SGD(),\n",
    "              metrics = ['mae'])\n",
    "\n",
    "model.fit(tf.expand_dims(X,axis =-1), y, epochs = 100)"
   ]
  },
  {
   "cell_type": "code",
   "execution_count": 5,
   "id": "4934805d",
   "metadata": {},
   "outputs": [
    {
     "data": {
      "text/plain": [
       "(<tf.Tensor: shape=(8,), dtype=float32, numpy=array([-7., -4., -1.,  2.,  5.,  8., 11., 14.], dtype=float32)>,\n",
       " <tf.Tensor: shape=(8,), dtype=float32, numpy=array([ 3.,  6.,  9., 12., 15., 18., 21., 24.], dtype=float32)>)"
      ]
     },
     "execution_count": 5,
     "metadata": {},
     "output_type": "execute_result"
    }
   ],
   "source": [
    "X,y"
   ]
  },
  {
   "cell_type": "code",
   "execution_count": 6,
   "id": "c0f96acd",
   "metadata": {},
   "outputs": [
    {
     "name": "stdout",
     "output_type": "stream",
     "text": [
      "1/1 [==============================] - 0s 153ms/step\n"
     ]
    },
    {
     "data": {
      "text/plain": [
       "array([[24.983334]], dtype=float32)"
      ]
     },
     "execution_count": 6,
     "metadata": {},
     "output_type": "execute_result"
    }
   ],
   "source": [
    "model.predict([14.0])"
   ]
  },
  {
   "cell_type": "code",
   "execution_count": null,
   "id": "18cba30c",
   "metadata": {},
   "outputs": [],
   "source": [
    "# Create a new model\n",
    "model = tf.keras.Sequential([\n",
    "    tf.keras.layers.Dense(100, activation = 'relu'),\n",
    "    tf.keras.layers.Dense(1)\n",
    "])\n",
    "\n",
    "model.compile(loss=tf.losses.mae,\n",
    "              optimizer=tf.keras.optimizers.Adam(lr = 0.01),\n",
    "              metrics=['mae'])\n",
    "\n",
    "model.fit(tf.expand_dims(X, axis=-1), y, epochs=100)\n"
   ]
  },
  {
   "cell_type": "code",
   "execution_count": 8,
   "id": "2a17e9a7",
   "metadata": {},
   "outputs": [
    {
     "data": {
      "text/plain": [
       "(<tf.Tensor: shape=(8,), dtype=float32, numpy=array([-7., -4., -1.,  2.,  5.,  8., 11., 14.], dtype=float32)>,\n",
       " <tf.Tensor: shape=(8,), dtype=float32, numpy=array([ 3.,  6.,  9., 12., 15., 18., 21., 24.], dtype=float32)>)"
      ]
     },
     "execution_count": 8,
     "metadata": {},
     "output_type": "execute_result"
    }
   ],
   "source": [
    "X,y"
   ]
  },
  {
   "cell_type": "code",
   "execution_count": 9,
   "id": "f128a5d5",
   "metadata": {},
   "outputs": [
    {
     "name": "stdout",
     "output_type": "stream",
     "text": [
      "1/1 [==============================] - 0s 102ms/step\n"
     ]
    },
    {
     "data": {
      "text/plain": [
       "array([[23.022537]], dtype=float32)"
      ]
     },
     "execution_count": 9,
     "metadata": {},
     "output_type": "execute_result"
    }
   ],
   "source": [
    "model.predict([14.0])"
   ]
  },
  {
   "cell_type": "code",
   "execution_count": 10,
   "id": "1b9979a5",
   "metadata": {},
   "outputs": [
    {
     "data": {
      "text/plain": [
       "(<tf.Tensor: shape=(50,), dtype=int32, numpy=\n",
       " array([-100,  -96,  -92,  -88,  -84,  -80,  -76,  -72,  -68,  -64,  -60,\n",
       "         -56,  -52,  -48,  -44,  -40,  -36,  -32,  -28,  -24,  -20,  -16,\n",
       "         -12,   -8,   -4,    0,    4,    8,   12,   16,   20,   24,   28,\n",
       "          32,   36,   40,   44,   48,   52,   56,   60,   64,   68,   72,\n",
       "          76,   80,   84,   88,   92,   96])>,\n",
       " <tf.Tensor: shape=(50,), dtype=int32, numpy=\n",
       " array([-90, -86, -82, -78, -74, -70, -66, -62, -58, -54, -50, -46, -42,\n",
       "        -38, -34, -30, -26, -22, -18, -14, -10,  -6,  -2,   2,   6,  10,\n",
       "         14,  18,  22,  26,  30,  34,  38,  42,  46,  50,  54,  58,  62,\n",
       "         66,  70,  74,  78,  82,  86,  90,  94,  98, 102, 106])>)"
      ]
     },
     "execution_count": 10,
     "metadata": {},
     "output_type": "execute_result"
    }
   ],
   "source": [
    "# Building a bigger dataset\n",
    "X = tf.range(-100, 100, 4)\n",
    "y = X+10\n",
    "X,y"
   ]
  },
  {
   "cell_type": "code",
   "execution_count": 11,
   "id": "4919fcc2",
   "metadata": {},
   "outputs": [
    {
     "data": {
      "text/plain": [
       "<matplotlib.collections.PathCollection at 0x2970fd56610>"
      ]
     },
     "execution_count": 11,
     "metadata": {},
     "output_type": "execute_result"
    },
    {
     "data": {
      "image/png": "[encoded data removed]",
      "text/plain": [
       "<Figure size 432x288 with 1 Axes>"
      ]
     },
     "metadata": {
      "needs_background": "light"
     },
     "output_type": "display_data"
    }
   ],
   "source": [
    "plt.scatter(X,y)"
   ]
  },
  {
   "cell_type": "code",
   "execution_count": 12,
   "id": "4ad6d978",
   "metadata": {},
   "outputs": [
    {
     "name": "stdout",
     "output_type": "stream",
     "text": [
      "[-100  -96  -92  -88  -84  -80  -76  -72  -68  -64  -60  -56  -52  -48\n",
      "  -44  -40  -36  -32  -28  -24  -20  -16  -12   -8   -4    0    4    8\n",
      "   12   16   20   24   28   32   36   40   44   48   52   56]length is 40\n",
      "[60 64 68 72 76 80 84 88 92 96]length is 10\n",
      "[-100  -96  -92  -88  -84  -80  -76  -72  -68  -64  -60  -56  -52  -48\n",
      "  -44  -40  -36  -32  -28  -24  -20  -16  -12   -8   -4    0    4    8\n",
      "   12   16   20   24   28   32   36   40   44   48   52   56]length is 40\n",
      "[60 64 68 72 76 80 84 88 92 96]length is 10\n"
     ]
    }
   ],
   "source": [
    "X_train = X[:40]\n",
    "X_test = X[40:]\n",
    "y_train = X[:40]\n",
    "y_test = X[40:]\n",
    "\n",
    "all_data_vars = [X_train,X_test,y_train,y_test]\n",
    "for i in all_data_vars:\n",
    "    print(f'{i}length is {len(i)}')"
   ]
  },
  {
   "cell_type": "code",
   "execution_count": 13,
   "id": "699e4ee6",
   "metadata": {},
   "outputs": [
    {
     "data": {
      "text/plain": [
       "<matplotlib.legend.Legend at 0x29710dd7f10>"
      ]
     },
     "execution_count": 13,
     "metadata": {},
     "output_type": "execute_result"
    },
    {
     "data": {
      "image/png": "[encoded data removed]",
      "text/plain": [
       "<Figure size 432x288 with 1 Axes>"
      ]
     },
     "metadata": {
      "needs_background": "light"
     },
     "output_type": "display_data"
    }
   ],
   "source": [
    "\n",
    "plt.scatter(X_train,y_train, cmap = 'red',label = \"Training Data\")\n",
    "plt.scatter(X_test,y_test, cmap = 'green',label = \"Testing Data\")\n",
    "plt.legend()"
   ]
  },
  {
   "cell_type": "code",
   "execution_count": null,
   "id": "e3bdf0a7",
   "metadata": {},
   "outputs": [],
   "source": [
    "# Building a model for training data\n",
    "# Create a new model\n",
    "model = tf.keras.Sequential([\n",
    "    tf.keras.layers.Dense(100, activation='relu'),\n",
    "    tf.keras.layers.Dense(1)\n",
    "])\n",
    "\n",
    "model.compile(loss=tf.losses.mae,\n",
    "              optimizer=tf.keras.optimizers.Adam(lr=0.01),\n",
    "              metrics=['mae'])\n",
    "\n",
    "model.fit(tf.expand_dims(X_train, axis=-1), y_train, epochs=100, verbose = 0)\n"
   ]
  },
  {
   "cell_type": "code",
   "execution_count": 15,
   "id": "f692c5e4",
   "metadata": {},
   "outputs": [
    {
     "name": "stdout",
     "output_type": "stream",
     "text": [
      "Model: \"sequential_2\"\n",
      "_________________________________________________________________\n",
      " Layer (type)                Output Shape              Param #   \n",
      "=================================================================\n",
      " dense_3 (Dense)             (None, 100)               200       \n",
      "                                                                 \n",
      " dense_4 (Dense)             (None, 1)                 101       \n",
      "                                                                 \n",
      "=================================================================\n",
      "Total params: 301\n",
      "Trainable params: 301\n",
      "Non-trainable params: 0\n",
      "_________________________________________________________________\n"
     ]
    }
   ],
   "source": [
    "model.summary()"
   ]
  },
  {
   "cell_type": "markdown",
   "id": "12131377",
   "metadata": {},
   "source": [
    "Build model 2 with two dense layers for 100 epochs"
   ]
  },
  {
   "cell_type": "code",
   "execution_count": 22,
   "id": "e126180a",
   "metadata": {},
   "outputs": [
    {
     "name": "stdout",
     "output_type": "stream",
     "text": [
      "Epoch 1/100\n",
      "2/2 [==============================] - 0s 3ms/step - loss: 28.5179 - mse: 1169.6488\n",
      "Epoch 2/100\n",
      "2/2 [==============================] - 0s 3ms/step - loss: 23.5481 - mse: 795.0546\n",
      "Epoch 3/100\n",
      "2/2 [==============================] - 0s 4ms/step - loss: 30.3879 - mse: 1480.5625\n",
      "Epoch 4/100\n",
      "2/2 [==============================] - 0s 6ms/step - loss: 30.0180 - mse: 1317.8606\n",
      "Epoch 5/100\n",
      "2/2 [==============================] - 0s 3ms/step - loss: 11.3066 - mse: 220.3870\n",
      "Epoch 6/100\n",
      "2/2 [==============================] - 0s 6ms/step - loss: 14.9600 - mse: 316.0143\n",
      "Epoch 7/100\n",
      "2/2 [==============================] - 0s 9ms/step - loss: 15.8804 - mse: 361.8178\n",
      "Epoch 8/100\n",
      "2/2 [==============================] - 0s 4ms/step - loss: 17.7428 - mse: 484.7430\n",
      "Epoch 9/100\n",
      "2/2 [==============================] - 0s 2ms/step - loss: 46.8813 - mse: 3729.8276\n",
      "Epoch 10/100\n",
      "2/2 [==============================] - 0s 7ms/step - loss: 30.8266 - mse: 1382.1418\n",
      "Epoch 11/100\n",
      "2/2 [==============================] - 0s 10ms/step - loss: 10.5746 - mse: 604.1141\n",
      "Epoch 12/100\n",
      "2/2 [==============================] - 0s 4ms/step - loss: 20.1193 - mse: 655.2457\n",
      "Epoch 13/100\n",
      "2/2 [==============================] - 0s 3ms/step - loss: 31.7618 - mse: 1532.5515\n",
      "Epoch 14/100\n",
      "2/2 [==============================] - 0s 4ms/step - loss: 30.5629 - mse: 1384.6039\n",
      "Epoch 15/100\n",
      "2/2 [==============================] - 0s 2ms/step - loss: 19.8452 - mse: 559.7647\n",
      "Epoch 16/100\n",
      "2/2 [==============================] - 0s 6ms/step - loss: 11.3297 - mse: 344.4240\n",
      "Epoch 17/100\n",
      "2/2 [==============================] - 0s 4ms/step - loss: 16.5333 - mse: 491.0912\n",
      "Epoch 18/100\n",
      "2/2 [==============================] - 0s 4ms/step - loss: 28.3004 - mse: 1146.3480\n",
      "Epoch 19/100\n",
      "2/2 [==============================] - 0s 3ms/step - loss: 12.2918 - mse: 304.0186\n",
      "Epoch 20/100\n",
      "2/2 [==============================] - 0s 4ms/step - loss: 13.8303 - mse: 284.7692\n",
      "Epoch 21/100\n",
      "2/2 [==============================] - 0s 5ms/step - loss: 20.0399 - mse: 654.0997\n",
      "Epoch 22/100\n",
      "2/2 [==============================] - 0s 0s/step - loss: 36.0641 - mse: 1941.5107\n",
      "Epoch 23/100\n",
      "2/2 [==============================] - 0s 8ms/step - loss: 7.8092 - mse: 465.2365\n",
      "Epoch 24/100\n",
      "2/2 [==============================] - 0s 3ms/step - loss: 11.0350 - mse: 451.4100\n",
      "Epoch 25/100\n",
      "2/2 [==============================] - 0s 2ms/step - loss: 16.0476 - mse: 450.9400\n",
      "Epoch 26/100\n",
      "2/2 [==============================] - 0s 3ms/step - loss: 30.3725 - mse: 1319.9651\n",
      "Epoch 27/100\n",
      "2/2 [==============================] - 0s 4ms/step - loss: 7.7186 - mse: 290.1093\n",
      "Epoch 28/100\n",
      "2/2 [==============================] - 0s 3ms/step - loss: 11.0176 - mse: 316.0637\n",
      "Epoch 29/100\n",
      "2/2 [==============================] - 0s 2ms/step - loss: 13.7589 - mse: 271.2115\n",
      "Epoch 30/100\n",
      "2/2 [==============================] - 0s 3ms/step - loss: 34.2857 - mse: 1629.0336\n",
      "Epoch 31/100\n",
      "2/2 [==============================] - 0s 2ms/step - loss: 11.1148 - mse: 286.3203\n",
      "Epoch 32/100\n",
      "2/2 [==============================] - 0s 5ms/step - loss: 15.4094 - mse: 340.7429\n",
      "Epoch 33/100\n",
      "2/2 [==============================] - 0s 2ms/step - loss: 21.1503 - mse: 695.8948\n",
      "Epoch 34/100\n",
      "2/2 [==============================] - 0s 2ms/step - loss: 30.8212 - mse: 1417.3424\n",
      "Epoch 35/100\n",
      "2/2 [==============================] - 0s 2ms/step - loss: 10.1207 - mse: 481.9198\n",
      "Epoch 36/100\n",
      "2/2 [==============================] - 0s 0s/step - loss: 17.7624 - mse: 484.4407\n",
      "Epoch 37/100\n",
      "2/2 [==============================] - 0s 997us/step - loss: 16.6076 - mse: 440.2585\n",
      "Epoch 38/100\n",
      "2/2 [==============================] - 0s 3ms/step - loss: 23.2026 - mse: 817.2702\n",
      "Epoch 39/100\n",
      "2/2 [==============================] - 0s 3ms/step - loss: 24.3343 - mse: 841.6613\n",
      "Epoch 40/100\n",
      "2/2 [==============================] - 0s 4ms/step - loss: 7.2099 - mse: 248.6759\n",
      "Epoch 41/100\n",
      "2/2 [==============================] - 0s 8ms/step - loss: 14.9112 - mse: 314.4929\n",
      "Epoch 42/100\n",
      "2/2 [==============================] - 0s 5ms/step - loss: 19.2823 - mse: 613.4379\n",
      "Epoch 43/100\n",
      "2/2 [==============================] - 0s 6ms/step - loss: 17.3744 - mse: 496.1058\n",
      "Epoch 44/100\n",
      "2/2 [==============================] - 0s 4ms/step - loss: 46.5427 - mse: 3602.5183\n",
      "Epoch 45/100\n",
      "2/2 [==============================] - 0s 9ms/step - loss: 21.6515 - mse: 662.3369\n",
      "Epoch 46/100\n",
      "2/2 [==============================] - 0s 3ms/step - loss: 5.7751 - mse: 236.9436\n",
      "Epoch 47/100\n",
      "2/2 [==============================] - 0s 3ms/step - loss: 15.1064 - mse: 342.3541\n",
      "Epoch 48/100\n",
      "2/2 [==============================] - 0s 4ms/step - loss: 12.7853 - mse: 240.4361\n",
      "Epoch 49/100\n",
      "2/2 [==============================] - 0s 4ms/step - loss: 14.1227 - mse: 282.1037\n",
      "Epoch 50/100\n",
      "2/2 [==============================] - 0s 6ms/step - loss: 16.8538 - mse: 438.3318\n",
      "Epoch 51/100\n",
      "2/2 [==============================] - 0s 8ms/step - loss: 16.1530 - mse: 453.4733\n",
      "Epoch 52/100\n",
      "2/2 [==============================] - 0s 2ms/step - loss: 49.6344 - mse: 4307.4009\n",
      "Epoch 53/100\n",
      "2/2 [==============================] - 0s 3ms/step - loss: 28.8078 - mse: 1252.1467\n",
      "Epoch 54/100\n",
      "2/2 [==============================] - 0s 3ms/step - loss: 28.3351 - mse: 1180.9910\n",
      "Epoch 55/100\n",
      "2/2 [==============================] - 0s 2ms/step - loss: 26.1305 - mse: 976.8495\n",
      "Epoch 56/100\n",
      "2/2 [==============================] - 0s 2ms/step - loss: 5.7222 - mse: 237.0041\n",
      "Epoch 57/100\n",
      "2/2 [==============================] - 0s 5ms/step - loss: 13.9285 - mse: 278.1382\n",
      "Epoch 58/100\n",
      "2/2 [==============================] - 0s 5ms/step - loss: 15.2750 - mse: 329.5322\n",
      "Epoch 59/100\n",
      "2/2 [==============================] - 0s 5ms/step - loss: 17.8327 - mse: 550.8400\n",
      "Epoch 60/100\n",
      "2/2 [==============================] - 0s 5ms/step - loss: 21.4036 - mse: 711.6854\n",
      "Epoch 61/100\n",
      "2/2 [==============================] - 0s 0s/step - loss: 28.5593 - mse: 1201.7594\n",
      "Epoch 62/100\n",
      "2/2 [==============================] - 0s 5ms/step - loss: 10.9936 - mse: 241.0614\n",
      "Epoch 63/100\n",
      "2/2 [==============================] - 0s 4ms/step - loss: 13.7326 - mse: 283.4168\n",
      "Epoch 64/100\n",
      "2/2 [==============================] - 0s 3ms/step - loss: 17.5720 - mse: 531.5178\n",
      "Epoch 65/100\n",
      "2/2 [==============================] - 0s 3ms/step - loss: 39.1949 - mse: 2324.1860\n",
      "Epoch 66/100\n",
      "2/2 [==============================] - 0s 6ms/step - loss: 20.7874 - mse: 610.1943\n",
      "Epoch 67/100\n",
      "2/2 [==============================] - 0s 11ms/step - loss: 6.4168 - mse: 230.1467\n",
      "Epoch 68/100\n",
      "2/2 [==============================] - 0s 2ms/step - loss: 14.8720 - mse: 311.8892\n",
      "Epoch 69/100\n",
      "2/2 [==============================] - 0s 4ms/step - loss: 20.7768 - mse: 713.1245\n",
      "Epoch 70/100\n",
      "2/2 [==============================] - 0s 3ms/step - loss: 26.3167 - mse: 985.9525\n",
      "Epoch 71/100\n",
      "2/2 [==============================] - 0s 4ms/step - loss: 9.7183 - mse: 240.3792\n",
      "Epoch 72/100\n",
      "2/2 [==============================] - 0s 3ms/step - loss: 13.0782 - mse: 283.5255\n",
      "Epoch 73/100\n",
      "2/2 [==============================] - 0s 2ms/step - loss: 14.7838 - mse: 379.3758\n",
      "Epoch 74/100\n",
      "2/2 [==============================] - 0s 4ms/step - loss: 34.2289 - mse: 1695.0875\n",
      "Epoch 75/100\n",
      "2/2 [==============================] - 0s 3ms/step - loss: 14.2869 - mse: 287.6948\n",
      "Epoch 76/100\n",
      "2/2 [==============================] - 0s 2ms/step - loss: 22.4540 - mse: 778.8060\n",
      "Epoch 77/100\n",
      "2/2 [==============================] - 0s 3ms/step - loss: 27.5109 - mse: 1124.2467\n",
      "Epoch 78/100\n",
      "2/2 [==============================] - 0s 7ms/step - loss: 11.1687 - mse: 314.3329\n",
      "Epoch 79/100\n",
      "2/2 [==============================] - 0s 4ms/step - loss: 11.2364 - mse: 697.7122\n",
      "Epoch 80/100\n",
      "2/2 [==============================] - 0s 3ms/step - loss: 27.1847 - mse: 1104.7009\n",
      "Epoch 81/100\n",
      "2/2 [==============================] - 0s 4ms/step - loss: 13.5980 - mse: 252.1912\n",
      "Epoch 82/100\n",
      "2/2 [==============================] - 0s 2ms/step - loss: 20.1488 - mse: 684.9014\n",
      "Epoch 83/100\n",
      "2/2 [==============================] - 0s 4ms/step - loss: 30.5572 - mse: 1370.1735\n",
      "Epoch 84/100\n",
      "2/2 [==============================] - 0s 4ms/step - loss: 12.7689 - mse: 317.6277\n",
      "Epoch 85/100\n",
      "2/2 [==============================] - 0s 5ms/step - loss: 27.2860 - mse: 1091.1710\n",
      "Epoch 86/100\n",
      "2/2 [==============================] - 0s 2ms/step - loss: 15.6942 - mse: 410.9188\n",
      "Epoch 87/100\n",
      "2/2 [==============================] - 0s 3ms/step - loss: 11.0909 - mse: 573.8522\n",
      "Epoch 88/100\n",
      "2/2 [==============================] - 0s 5ms/step - loss: 22.1032 - mse: 745.3063\n",
      "Epoch 89/100\n",
      "2/2 [==============================] - 0s 3ms/step - loss: 25.1605 - mse: 886.0361\n",
      "Epoch 90/100\n",
      "2/2 [==============================] - 0s 3ms/step - loss: 13.7010 - mse: 304.2107\n",
      "Epoch 91/100\n",
      "2/2 [==============================] - 0s 5ms/step - loss: 12.4377 - mse: 312.1167\n",
      "Epoch 92/100\n",
      "2/2 [==============================] - 0s 3ms/step - loss: 23.9362 - mse: 896.7295\n",
      "Epoch 93/100\n",
      "2/2 [==============================] - 0s 5ms/step - loss: 21.1828 - mse: 635.1490\n",
      "Epoch 94/100\n",
      "2/2 [==============================] - 0s 2ms/step - loss: 10.3895 - mse: 473.1279\n",
      "Epoch 95/100\n",
      "2/2 [==============================] - 0s 3ms/step - loss: 17.6789 - mse: 541.7128\n",
      "Epoch 96/100\n",
      "2/2 [==============================] - 0s 2ms/step - loss: 22.6313 - mse: 768.8599\n",
      "Epoch 97/100\n",
      "2/2 [==============================] - 0s 2ms/step - loss: 29.2434 - mse: 1257.9998\n",
      "Epoch 98/100\n",
      "2/2 [==============================] - 0s 7ms/step - loss: 5.9584 - mse: 227.7278\n",
      "Epoch 99/100\n",
      "2/2 [==============================] - 0s 2ms/step - loss: 14.1331 - mse: 282.5330\n",
      "Epoch 100/100\n",
      "2/2 [==============================] - 0s 5ms/step - loss: 27.6729 - mse: 1101.3632\n"
     ]
    },
    {
     "data": {
      "text/plain": [
       "<keras.callbacks.History at 0x29711119d60>"
      ]
     },
     "execution_count": 22,
     "metadata": {},
     "output_type": "execute_result"
    }
   ],
   "source": [
    "tf.random.set_seed(42)\n",
    "\n",
    "model_2 = tf.keras.Sequential([\n",
    "    tf.keras.layers.Dense(10),\n",
    "    tf.keras.layers.Dense(1)\n",
    "])\n",
    "\n",
    "model_2.compile(loss = tf.keras.losses.mae,\n",
    "                optimizer = tf.keras.optimizers.SGD(),\n",
    "                metrics = ['mse'])\n",
    "\n",
    "model_2.fit(tf.expand_dims(X_train, axis=-1), y_train, epochs=100)\n"
   ]
  },
  {
   "cell_type": "code",
   "execution_count": null,
   "id": "274b8c53",
   "metadata": {},
   "outputs": [],
   "source": []
  }
 ],
 "metadata": {
  "kernelspec": {
   "display_name": "Python 3.8.6 64-bit",
   "language": "python",
   "name": "python3"
  },
  "language_info": {
   "codemirror_mode": {
    "name": "ipython",
    "version": 3
   },
   "file_extension": ".py",
   "mimetype": "text/x-python",
   "name": "python",
   "nbconvert_exporter": "python",
   "pygments_lexer": "ipython3",
   "version": "3.8.6"
  },
  "vscode": {
   "interpreter": {
    "hash": "52634da84371cba311ea128a5ea7cdc41ff074b781779e754b270ff9f8153cee"
   }
  }
 },
 "nbformat": 4,
 "nbformat_minor": 5
}
