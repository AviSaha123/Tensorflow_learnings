{
 "cells": [
  {
   "cell_type": "code",
   "execution_count": 1,
   "id": "c94685d7",
   "metadata": {},
   "outputs": [],
   "source": [
    "import tensorflow as tf\n",
    "import matplotlib.pyplot as plt \n",
    "import numpy as np"
   ]
  },
  {
   "cell_type": "code",
   "execution_count": 2,
   "id": "864960f6",
   "metadata": {},
   "outputs": [
    {
     "data": {
      "image/png": "[encoded data removed]",
      "text/plain": [
       "<Figure size 432x288 with 1 Axes>"
      ]
     },
     "metadata": {
      "needs_background": "light"
     },
     "output_type": "display_data"
    }
   ],
   "source": [
    "X = np.array([-7.0, -4.0, -1.0, 2.0, 5.0, 8.0, 11.0, 14.0])\n",
    "\n",
    "# Create labels\n",
    "y = np.array([3.0, 6.0, 9.0, 12.0, 15.0, 18.0, 21.0, 24.0])\n",
    "\n",
    "# Visualize it\n",
    "plt.scatter(X, y);"
   ]
  },
  {
   "cell_type": "code",
   "execution_count": 7,
   "id": "f0522a9a",
   "metadata": {},
   "outputs": [],
   "source": [
    "X = tf.constant([-7.0, -4.0, -1.0, 2.0, 5.0, 8.0, 11.0, 14.0])\n",
    "y = tf.constant([3.0, 6.0, 9.0, 12.0, 15.0, 18.0, 21.0, 24.0])\n"
   ]
  },
  {
   "cell_type": "code",
   "execution_count": null,
   "id": "e8aab9f1",
   "metadata": {},
   "outputs": [],
   "source": [
    "# Set random seed\n",
    "tf.random.set_seed(42)\n",
    "\n",
    "model = tf.keras.Sequential([\n",
    "    tf.keras.layers.Dense(1)\n",
    "])\n",
    "\n",
    "model.compile(loss = tf.losses.mae,\n",
    "              optimizer = tf.keras.optimizers.SGD(),\n",
    "              metrics = ['mae'])\n",
    "\n",
    "model.fit(tf.expand_dims(X,axis =-1), y, epochs = 100)"
   ]
  },
  {
   "cell_type": "code",
   "execution_count": 12,
   "id": "4934805d",
   "metadata": {},
   "outputs": [
    {
     "data": {
      "text/plain": [
       "(<tf.Tensor: shape=(8,), dtype=float32, numpy=array([-7., -4., -1.,  2.,  5.,  8., 11., 14.], dtype=float32)>,\n",
       " <tf.Tensor: shape=(8,), dtype=float32, numpy=array([ 3.,  6.,  9., 12., 15., 18., 21., 24.], dtype=float32)>)"
      ]
     },
     "execution_count": 12,
     "metadata": {},
     "output_type": "execute_result"
    }
   ],
   "source": [
    "X,y"
   ]
  },
  {
   "cell_type": "code",
   "execution_count": 14,
   "id": "c0f96acd",
   "metadata": {},
   "outputs": [
    {
     "name": "stdout",
     "output_type": "stream",
     "text": [
      "1/1 [==============================] - 1s 740ms/step\n"
     ]
    },
    {
     "data": {
      "text/plain": [
       "array([[24.983334]], dtype=float32)"
      ]
     },
     "execution_count": 14,
     "metadata": {},
     "output_type": "execute_result"
    }
   ],
   "source": [
    "model.predict([14.0])"
   ]
  },
  {
   "cell_type": "code",
   "execution_count": 21,
   "id": "18cba30c",
   "metadata": {},
   "outputs": [
    {
     "name": "stdout",
     "output_type": "stream",
     "text": [
      "Epoch 1/100\n"
     ]
    },
    {
     "name": "stderr",
     "output_type": "stream",
     "text": [
      "c:\\Python\\lib\\site-packages\\keras\\optimizers\\optimizer_v2\\adam.py:110: UserWarning: The `lr` argument is deprecated, use `learning_rate` instead.\n",
      "  super(Adam, self).__init__(name, **kwargs)\n"
     ]
    },
    {
     "name": "stdout",
     "output_type": "stream",
     "text": [
      "1/1 [==============================] - 1s 1s/step - loss: 14.0407 - mae: 14.0407\n",
      "Epoch 2/100\n",
      "1/1 [==============================] - 0s 8ms/step - loss: 13.1939 - mae: 13.1939\n",
      "Epoch 3/100\n",
      "1/1 [==============================] - 0s 8ms/step - loss: 12.3501 - mae: 12.3501\n",
      "Epoch 4/100\n",
      "1/1 [==============================] - 0s 10ms/step - loss: 11.5151 - mae: 11.5151\n",
      "Epoch 5/100\n",
      "1/1 [==============================] - 0s 9ms/step - loss: 10.6816 - mae: 10.6816\n",
      "Epoch 6/100\n",
      "1/1 [==============================] - 0s 10ms/step - loss: 9.9990 - mae: 9.9990\n",
      "Epoch 7/100\n",
      "1/1 [==============================] - 0s 10ms/step - loss: 9.3607 - mae: 9.3607\n",
      "Epoch 8/100\n",
      "1/1 [==============================] - 0s 9ms/step - loss: 8.7120 - mae: 8.7120\n",
      "Epoch 9/100\n",
      "1/1 [==============================] - 0s 6ms/step - loss: 8.0483 - mae: 8.0483\n",
      "Epoch 10/100\n",
      "1/1 [==============================] - 0s 10ms/step - loss: 7.3706 - mae: 7.3706\n",
      "Epoch 11/100\n",
      "1/1 [==============================] - 0s 14ms/step - loss: 6.6723 - mae: 6.6723\n",
      "Epoch 12/100\n",
      "1/1 [==============================] - 0s 8ms/step - loss: 5.9494 - mae: 5.9494\n",
      "Epoch 13/100\n",
      "1/1 [==============================] - 0s 7ms/step - loss: 5.1989 - mae: 5.1989\n",
      "Epoch 14/100\n",
      "1/1 [==============================] - 0s 7ms/step - loss: 4.4187 - mae: 4.4187\n",
      "Epoch 15/100\n",
      "1/1 [==============================] - 0s 17ms/step - loss: 3.8777 - mae: 3.8777\n",
      "Epoch 16/100\n",
      "1/1 [==============================] - 0s 11ms/step - loss: 3.7759 - mae: 3.7759\n",
      "Epoch 17/100\n",
      "1/1 [==============================] - 0s 7ms/step - loss: 3.9165 - mae: 3.9165\n",
      "Epoch 18/100\n",
      "1/1 [==============================] - 0s 6ms/step - loss: 4.0805 - mae: 4.0805\n",
      "Epoch 19/100\n",
      "1/1 [==============================] - 0s 6ms/step - loss: 4.3351 - mae: 4.3351\n",
      "Epoch 20/100\n",
      "1/1 [==============================] - 0s 9ms/step - loss: 4.4918 - mae: 4.4918\n",
      "Epoch 21/100\n",
      "1/1 [==============================] - 0s 8ms/step - loss: 4.5620 - mae: 4.5620\n",
      "Epoch 22/100\n",
      "1/1 [==============================] - 0s 4ms/step - loss: 4.5558 - mae: 4.5558\n",
      "Epoch 23/100\n",
      "1/1 [==============================] - 0s 5ms/step - loss: 4.4825 - mae: 4.4825\n",
      "Epoch 24/100\n",
      "1/1 [==============================] - 0s 12ms/step - loss: 4.3521 - mae: 4.3521\n",
      "Epoch 25/100\n",
      "1/1 [==============================] - 0s 10ms/step - loss: 4.1752 - mae: 4.1752\n",
      "Epoch 26/100\n",
      "1/1 [==============================] - 0s 6ms/step - loss: 3.9623 - mae: 3.9623\n",
      "Epoch 27/100\n",
      "1/1 [==============================] - 0s 4ms/step - loss: 3.7412 - mae: 3.7412\n",
      "Epoch 28/100\n",
      "1/1 [==============================] - 0s 4ms/step - loss: 3.6324 - mae: 3.6324\n",
      "Epoch 29/100\n",
      "1/1 [==============================] - 0s 5ms/step - loss: 3.5238 - mae: 3.5238\n",
      "Epoch 30/100\n",
      "1/1 [==============================] - 0s 6ms/step - loss: 3.4099 - mae: 3.4099\n",
      "Epoch 31/100\n",
      "1/1 [==============================] - 0s 4ms/step - loss: 3.2939 - mae: 3.2939\n",
      "Epoch 32/100\n",
      "1/1 [==============================] - 0s 8ms/step - loss: 3.2766 - mae: 3.2766\n",
      "Epoch 33/100\n",
      "1/1 [==============================] - 0s 6ms/step - loss: 3.2741 - mae: 3.2741\n",
      "Epoch 34/100\n",
      "1/1 [==============================] - 0s 7ms/step - loss: 3.2339 - mae: 3.2339\n",
      "Epoch 35/100\n",
      "1/1 [==============================] - 0s 9ms/step - loss: 3.1633 - mae: 3.1633\n",
      "Epoch 36/100\n",
      "1/1 [==============================] - 0s 5ms/step - loss: 3.0606 - mae: 3.0606\n",
      "Epoch 37/100\n",
      "1/1 [==============================] - 0s 8ms/step - loss: 2.9276 - mae: 2.9276\n",
      "Epoch 38/100\n",
      "1/1 [==============================] - 0s 5ms/step - loss: 2.8726 - mae: 2.8726\n",
      "Epoch 39/100\n",
      "1/1 [==============================] - 0s 7ms/step - loss: 2.8512 - mae: 2.8512\n",
      "Epoch 40/100\n",
      "1/1 [==============================] - 0s 8ms/step - loss: 2.7595 - mae: 2.7595\n",
      "Epoch 41/100\n",
      "1/1 [==============================] - 0s 6ms/step - loss: 2.6697 - mae: 2.6697\n",
      "Epoch 42/100\n",
      "1/1 [==============================] - 0s 9ms/step - loss: 2.5911 - mae: 2.5911\n",
      "Epoch 43/100\n",
      "1/1 [==============================] - 0s 8ms/step - loss: 2.4965 - mae: 2.4965\n",
      "Epoch 44/100\n",
      "1/1 [==============================] - 0s 8ms/step - loss: 2.3916 - mae: 2.3916\n",
      "Epoch 45/100\n",
      "1/1 [==============================] - 0s 12ms/step - loss: 2.2887 - mae: 2.2887\n",
      "Epoch 46/100\n",
      "1/1 [==============================] - 0s 4ms/step - loss: 2.1905 - mae: 2.1905\n",
      "Epoch 47/100\n",
      "1/1 [==============================] - 0s 5ms/step - loss: 2.0973 - mae: 2.0973\n",
      "Epoch 48/100\n",
      "1/1 [==============================] - 0s 6ms/step - loss: 2.0104 - mae: 2.0104\n",
      "Epoch 49/100\n",
      "1/1 [==============================] - 0s 7ms/step - loss: 1.9111 - mae: 1.9111\n",
      "Epoch 50/100\n",
      "1/1 [==============================] - 0s 6ms/step - loss: 1.7956 - mae: 1.7956\n",
      "Epoch 51/100\n",
      "1/1 [==============================] - 0s 6ms/step - loss: 1.6632 - mae: 1.6632\n",
      "Epoch 52/100\n",
      "1/1 [==============================] - 0s 7ms/step - loss: 1.5822 - mae: 1.5822\n",
      "Epoch 53/100\n",
      "1/1 [==============================] - 0s 6ms/step - loss: 1.4656 - mae: 1.4656\n",
      "Epoch 54/100\n",
      "1/1 [==============================] - 0s 7ms/step - loss: 1.3211 - mae: 1.3211\n",
      "Epoch 55/100\n",
      "1/1 [==============================] - 0s 5ms/step - loss: 1.2056 - mae: 1.2056\n",
      "Epoch 56/100\n",
      "1/1 [==============================] - 0s 5ms/step - loss: 1.0850 - mae: 1.0850\n",
      "Epoch 57/100\n",
      "1/1 [==============================] - 0s 10ms/step - loss: 1.0049 - mae: 1.0049\n",
      "Epoch 58/100\n",
      "1/1 [==============================] - 0s 5ms/step - loss: 0.7954 - mae: 0.7954\n",
      "Epoch 59/100\n",
      "1/1 [==============================] - 0s 7ms/step - loss: 0.6131 - mae: 0.6131\n",
      "Epoch 60/100\n",
      "1/1 [==============================] - 0s 7ms/step - loss: 0.5123 - mae: 0.5123\n",
      "Epoch 61/100\n",
      "1/1 [==============================] - 0s 5ms/step - loss: 0.4187 - mae: 0.4187\n",
      "Epoch 62/100\n",
      "1/1 [==============================] - 0s 6ms/step - loss: 0.4921 - mae: 0.4921\n",
      "Epoch 63/100\n",
      "1/1 [==============================] - 0s 20ms/step - loss: 0.2640 - mae: 0.2640\n",
      "Epoch 64/100\n",
      "1/1 [==============================] - 0s 12ms/step - loss: 0.4457 - mae: 0.4457\n",
      "Epoch 65/100\n",
      "1/1 [==============================] - 0s 6ms/step - loss: 0.6526 - mae: 0.6526\n",
      "Epoch 66/100\n",
      "1/1 [==============================] - 0s 5ms/step - loss: 0.6650 - mae: 0.6650\n",
      "Epoch 67/100\n",
      "1/1 [==============================] - 0s 10ms/step - loss: 0.4853 - mae: 0.4853\n",
      "Epoch 68/100\n",
      "1/1 [==============================] - 0s 12ms/step - loss: 0.6153 - mae: 0.6153\n",
      "Epoch 69/100\n",
      "1/1 [==============================] - 0s 9ms/step - loss: 0.5853 - mae: 0.5853\n",
      "Epoch 70/100\n",
      "1/1 [==============================] - 0s 11ms/step - loss: 0.3321 - mae: 0.3321\n",
      "Epoch 71/100\n",
      "1/1 [==============================] - 0s 5ms/step - loss: 0.5355 - mae: 0.5355\n",
      "Epoch 72/100\n",
      "1/1 [==============================] - 0s 8ms/step - loss: 0.6029 - mae: 0.6029\n",
      "Epoch 73/100\n",
      "1/1 [==============================] - 0s 9ms/step - loss: 0.3949 - mae: 0.3949\n",
      "Epoch 74/100\n",
      "1/1 [==============================] - 0s 16ms/step - loss: 0.3204 - mae: 0.3204\n",
      "Epoch 75/100\n",
      "1/1 [==============================] - 0s 9ms/step - loss: 0.4031 - mae: 0.4031\n",
      "Epoch 76/100\n",
      "1/1 [==============================] - 0s 6ms/step - loss: 0.2593 - mae: 0.2593\n",
      "Epoch 77/100\n",
      "1/1 [==============================] - 0s 8ms/step - loss: 0.3426 - mae: 0.3426\n",
      "Epoch 78/100\n",
      "1/1 [==============================] - 0s 8ms/step - loss: 0.2195 - mae: 0.2195\n",
      "Epoch 79/100\n",
      "1/1 [==============================] - 0s 4ms/step - loss: 0.3804 - mae: 0.3804\n",
      "Epoch 80/100\n",
      "1/1 [==============================] - 0s 8ms/step - loss: 0.3561 - mae: 0.3561\n",
      "Epoch 81/100\n",
      "1/1 [==============================] - 0s 6ms/step - loss: 0.1577 - mae: 0.1577\n",
      "Epoch 82/100\n",
      "1/1 [==============================] - 0s 8ms/step - loss: 0.5684 - mae: 0.5684\n",
      "Epoch 83/100\n",
      "1/1 [==============================] - 0s 9ms/step - loss: 0.7369 - mae: 0.7369\n",
      "Epoch 84/100\n",
      "1/1 [==============================] - 0s 11ms/step - loss: 0.6109 - mae: 0.6109\n",
      "Epoch 85/100\n",
      "1/1 [==============================] - 0s 6ms/step - loss: 0.2299 - mae: 0.2299\n",
      "Epoch 86/100\n",
      "1/1 [==============================] - 0s 7ms/step - loss: 0.5818 - mae: 0.5818\n",
      "Epoch 87/100\n",
      "1/1 [==============================] - 0s 11ms/step - loss: 0.8175 - mae: 0.8175\n",
      "Epoch 88/100\n",
      "1/1 [==============================] - 0s 8ms/step - loss: 0.8335 - mae: 0.8335\n",
      "Epoch 89/100\n",
      "1/1 [==============================] - 0s 5ms/step - loss: 0.6757 - mae: 0.6757\n",
      "Epoch 90/100\n",
      "1/1 [==============================] - 0s 6ms/step - loss: 0.3243 - mae: 0.3243\n",
      "Epoch 91/100\n",
      "1/1 [==============================] - 0s 12ms/step - loss: 0.4791 - mae: 0.4791\n",
      "Epoch 92/100\n",
      "1/1 [==============================] - 0s 10ms/step - loss: 0.7257 - mae: 0.7257\n",
      "Epoch 93/100\n",
      "1/1 [==============================] - 0s 8ms/step - loss: 0.7304 - mae: 0.7304\n",
      "Epoch 94/100\n",
      "1/1 [==============================] - 0s 8ms/step - loss: 0.5208 - mae: 0.5208\n",
      "Epoch 95/100\n",
      "1/1 [==============================] - 0s 6ms/step - loss: 0.1245 - mae: 0.1245\n",
      "Epoch 96/100\n",
      "1/1 [==============================] - 0s 9ms/step - loss: 0.4842 - mae: 0.4842\n",
      "Epoch 97/100\n",
      "1/1 [==============================] - 0s 8ms/step - loss: 0.6690 - mae: 0.6690\n",
      "Epoch 98/100\n",
      "1/1 [==============================] - 0s 6ms/step - loss: 0.6304 - mae: 0.6304\n",
      "Epoch 99/100\n",
      "1/1 [==============================] - 0s 8ms/step - loss: 0.3949 - mae: 0.3949\n",
      "Epoch 100/100\n",
      "1/1 [==============================] - 0s 7ms/step - loss: 0.1691 - mae: 0.1691\n"
     ]
    },
    {
     "data": {
      "text/plain": [
       "<keras.callbacks.History at 0x208ce416b50>"
      ]
     },
     "execution_count": 21,
     "metadata": {},
     "output_type": "execute_result"
    }
   ],
   "source": [
    "# Create a new model\n",
    "model = tf.keras.Sequential([\n",
    "    tf.keras.layers.Dense(100, activation = 'relu'),\n",
    "    tf.keras.layers.Dense(1)\n",
    "])\n",
    "\n",
    "model.compile(loss=tf.losses.mae,\n",
    "              optimizer=tf.keras.optimizers.Adam(lr = 0.01),\n",
    "              metrics=['mae'])\n",
    "\n",
    "model.fit(tf.expand_dims(X, axis=-1), y, epochs=100)\n"
   ]
  },
  {
   "cell_type": "code",
   "execution_count": 23,
   "id": "2a17e9a7",
   "metadata": {},
   "outputs": [
    {
     "data": {
      "text/plain": [
       "(<tf.Tensor: shape=(8,), dtype=float32, numpy=array([-7., -4., -1.,  2.,  5.,  8., 11., 14.], dtype=float32)>,\n",
       " <tf.Tensor: shape=(8,), dtype=float32, numpy=array([ 3.,  6.,  9., 12., 15., 18., 21., 24.], dtype=float32)>)"
      ]
     },
     "execution_count": 23,
     "metadata": {},
     "output_type": "execute_result"
    }
   ],
   "source": [
    "X,y"
   ]
  },
  {
   "cell_type": "code",
   "execution_count": 22,
   "id": "f128a5d5",
   "metadata": {},
   "outputs": [
    {
     "name": "stdout",
     "output_type": "stream",
     "text": [
      "1/1 [==============================] - 0s 119ms/step\n"
     ]
    },
    {
     "data": {
      "text/plain": [
       "array([[23.29779]], dtype=float32)"
      ]
     },
     "execution_count": 22,
     "metadata": {},
     "output_type": "execute_result"
    }
   ],
   "source": [
    "model.predict([14.0])"
   ]
  },
  {
   "cell_type": "code",
   "execution_count": 25,
   "id": "1b9979a5",
   "metadata": {},
   "outputs": [
    {
     "data": {
      "text/plain": [
       "(<tf.Tensor: shape=(50,), dtype=int32, numpy=\n",
       " array([-100,  -96,  -92,  -88,  -84,  -80,  -76,  -72,  -68,  -64,  -60,\n",
       "         -56,  -52,  -48,  -44,  -40,  -36,  -32,  -28,  -24,  -20,  -16,\n",
       "         -12,   -8,   -4,    0,    4,    8,   12,   16,   20,   24,   28,\n",
       "          32,   36,   40,   44,   48,   52,   56,   60,   64,   68,   72,\n",
       "          76,   80,   84,   88,   92,   96])>,\n",
       " <tf.Tensor: shape=(50,), dtype=int32, numpy=\n",
       " array([-90, -86, -82, -78, -74, -70, -66, -62, -58, -54, -50, -46, -42,\n",
       "        -38, -34, -30, -26, -22, -18, -14, -10,  -6,  -2,   2,   6,  10,\n",
       "         14,  18,  22,  26,  30,  34,  38,  42,  46,  50,  54,  58,  62,\n",
       "         66,  70,  74,  78,  82,  86,  90,  94,  98, 102, 106])>)"
      ]
     },
     "execution_count": 25,
     "metadata": {},
     "output_type": "execute_result"
    }
   ],
   "source": [
    "# Building a bigger dataset\n",
    "X = tf.range(-100, 100, 4)\n",
    "y = X+10\n",
    "X,y"
   ]
  },
  {
   "cell_type": "code",
   "execution_count": 26,
   "id": "4919fcc2",
   "metadata": {},
   "outputs": [
    {
     "data": {
      "text/plain": [
       "<matplotlib.collections.PathCollection at 0x208cf5b5310>"
      ]
     },
     "execution_count": 26,
     "metadata": {},
     "output_type": "execute_result"
    },
    {
     "data": {
      "image/png": "[encoded data removed]",
      "text/plain": [
       "<Figure size 432x288 with 1 Axes>"
      ]
     },
     "metadata": {
      "needs_background": "light"
     },
     "output_type": "display_data"
    }
   ],
   "source": [
    "plt.scatter(X,y)"
   ]
  },
  {
   "cell_type": "code",
   "execution_count": 27,
   "id": "4ad6d978",
   "metadata": {},
   "outputs": [
    {
     "name": "stdout",
     "output_type": "stream",
     "text": [
      "[-100  -96  -92  -88  -84  -80  -76  -72  -68  -64  -60  -56  -52  -48\n",
      "  -44  -40  -36  -32  -28  -24  -20  -16  -12   -8   -4    0    4    8\n",
      "   12   16   20   24   28   32   36   40   44   48   52   56]length is 40\n",
      "[60 64 68 72 76 80 84 88 92 96]length is 10\n",
      "[-100  -96  -92  -88  -84  -80  -76  -72  -68  -64  -60  -56  -52  -48\n",
      "  -44  -40  -36  -32  -28  -24  -20  -16  -12   -8   -4    0    4    8\n",
      "   12   16   20   24   28   32   36   40   44   48   52   56]length is 40\n",
      "[60 64 68 72 76 80 84 88 92 96]length is 10\n"
     ]
    }
   ],
   "source": [
    "X_train = X[:40]\n",
    "X_test = X[40:]\n",
    "y_train = X[:40]\n",
    "y_test = X[40:]\n",
    "\n",
    "all_data_vars = [X_train,X_test,y_train,y_test]\n",
    "for i in all_data_vars:\n",
    "    print(f'{i}length is {len(i)}')"
   ]
  },
  {
   "cell_type": "code",
   "execution_count": 29,
   "id": "699e4ee6",
   "metadata": {},
   "outputs": [
    {
     "data": {
      "text/plain": [
       "<matplotlib.legend.Legend at 0x208cf6b0a60>"
      ]
     },
     "execution_count": 29,
     "metadata": {},
     "output_type": "execute_result"
    },
    {
     "data": {
      "image/png": "[encoded data removed]",
      "text/plain": [
       "<Figure size 432x288 with 1 Axes>"
      ]
     },
     "metadata": {
      "needs_background": "light"
     },
     "output_type": "display_data"
    }
   ],
   "source": [
    "\n",
    "plt.scatter(X_train,y_train, cmap = 'red',label = \"Training Data\")\n",
    "plt.scatter(X_test,y_test, cmap = 'green',label = \"Testing Data\")\n",
    "plt.legend()"
   ]
  },
  {
   "cell_type": "code",
   "execution_count": 30,
   "id": "e3bdf0a7",
   "metadata": {},
   "outputs": [
    {
     "name": "stdout",
     "output_type": "stream",
     "text": [
      "Epoch 1/100\n"
     ]
    },
    {
     "name": "stderr",
     "output_type": "stream",
     "text": [
      "c:\\Python\\lib\\site-packages\\keras\\optimizers\\optimizer_v2\\adam.py:110: UserWarning: The `lr` argument is deprecated, use `learning_rate` instead.\n",
      "  super(Adam, self).__init__(name, **kwargs)\n"
     ]
    },
    {
     "name": "stdout",
     "output_type": "stream",
     "text": [
      "2/2 [==============================] - 1s 3ms/step - loss: 40.4892 - mae: 40.4892\n",
      "Epoch 2/100\n",
      "2/2 [==============================] - 0s 4ms/step - loss: 29.3183 - mae: 29.3183\n",
      "Epoch 3/100\n",
      "2/2 [==============================] - 0s 5ms/step - loss: 18.6114 - mae: 18.6114\n",
      "Epoch 4/100\n",
      "2/2 [==============================] - 0s 4ms/step - loss: 7.5478 - mae: 7.5478\n",
      "Epoch 5/100\n",
      "2/2 [==============================] - 0s 6ms/step - loss: 3.4121 - mae: 3.4121\n",
      "Epoch 6/100\n",
      "2/2 [==============================] - 0s 3ms/step - loss: 8.6675 - mae: 8.6675\n",
      "Epoch 7/100\n",
      "2/2 [==============================] - 0s 7ms/step - loss: 8.9309 - mae: 8.9309\n",
      "Epoch 8/100\n",
      "2/2 [==============================] - 0s 9ms/step - loss: 5.8178 - mae: 5.8178\n",
      "Epoch 9/100\n",
      "2/2 [==============================] - 0s 6ms/step - loss: 1.6448 - mae: 1.6448\n",
      "Epoch 10/100\n",
      "2/2 [==============================] - 0s 15ms/step - loss: 3.3022 - mae: 3.3022\n",
      "Epoch 11/100\n",
      "2/2 [==============================] - 0s 5ms/step - loss: 4.6156 - mae: 4.6156\n",
      "Epoch 12/100\n",
      "2/2 [==============================] - 0s 6ms/step - loss: 3.8842 - mae: 3.8842\n",
      "Epoch 13/100\n",
      "2/2 [==============================] - 0s 6ms/step - loss: 1.7938 - mae: 1.7938\n",
      "Epoch 14/100\n",
      "2/2 [==============================] - 0s 10ms/step - loss: 1.6977 - mae: 1.6977\n",
      "Epoch 15/100\n",
      "2/2 [==============================] - 0s 7ms/step - loss: 3.2949 - mae: 3.2949\n",
      "Epoch 16/100\n",
      "2/2 [==============================] - 0s 8ms/step - loss: 3.0531 - mae: 3.0531\n",
      "Epoch 17/100\n",
      "2/2 [==============================] - 0s 6ms/step - loss: 1.5360 - mae: 1.5360\n",
      "Epoch 18/100\n",
      "2/2 [==============================] - 0s 4ms/step - loss: 1.5672 - mae: 1.5672\n",
      "Epoch 19/100\n",
      "2/2 [==============================] - 0s 6ms/step - loss: 2.8478 - mae: 2.8478\n",
      "Epoch 20/100\n",
      "2/2 [==============================] - 0s 5ms/step - loss: 2.2526 - mae: 2.2526\n",
      "Epoch 21/100\n",
      "2/2 [==============================] - 0s 4ms/step - loss: 0.6294 - mae: 0.6294\n",
      "Epoch 22/100\n",
      "2/2 [==============================] - 0s 5ms/step - loss: 2.0742 - mae: 2.0742\n",
      "Epoch 23/100\n",
      "2/2 [==============================] - 0s 4ms/step - loss: 2.2380 - mae: 2.2380\n",
      "Epoch 24/100\n",
      "2/2 [==============================] - 0s 8ms/step - loss: 0.8839 - mae: 0.8839\n",
      "Epoch 25/100\n",
      "2/2 [==============================] - 0s 4ms/step - loss: 1.3031 - mae: 1.3031\n",
      "Epoch 26/100\n",
      "2/2 [==============================] - 0s 7ms/step - loss: 1.2837 - mae: 1.2837\n",
      "Epoch 27/100\n",
      "2/2 [==============================] - 0s 4ms/step - loss: 0.8232 - mae: 0.8232\n",
      "Epoch 28/100\n",
      "2/2 [==============================] - 0s 5ms/step - loss: 1.1516 - mae: 1.1516\n",
      "Epoch 29/100\n",
      "2/2 [==============================] - 0s 5ms/step - loss: 0.7532 - mae: 0.7532\n",
      "Epoch 30/100\n",
      "2/2 [==============================] - 0s 5ms/step - loss: 0.3297 - mae: 0.3297\n",
      "Epoch 31/100\n",
      "2/2 [==============================] - 0s 4ms/step - loss: 0.6130 - mae: 0.6130\n",
      "Epoch 32/100\n",
      "2/2 [==============================] - 0s 4ms/step - loss: 0.4616 - mae: 0.4616\n",
      "Epoch 33/100\n",
      "2/2 [==============================] - 0s 3ms/step - loss: 0.1951 - mae: 0.1951\n",
      "Epoch 34/100\n",
      "2/2 [==============================] - 0s 5ms/step - loss: 0.1654 - mae: 0.1654\n",
      "Epoch 35/100\n",
      "2/2 [==============================] - 0s 4ms/step - loss: 0.2675 - mae: 0.2675\n",
      "Epoch 36/100\n",
      "2/2 [==============================] - 0s 4ms/step - loss: 0.2676 - mae: 0.2676\n",
      "Epoch 37/100\n",
      "2/2 [==============================] - 0s 6ms/step - loss: 0.2788 - mae: 0.2788\n",
      "Epoch 38/100\n",
      "2/2 [==============================] - 0s 5ms/step - loss: 0.3227 - mae: 0.3227\n",
      "Epoch 39/100\n",
      "2/2 [==============================] - 0s 4ms/step - loss: 0.1552 - mae: 0.1552\n",
      "Epoch 40/100\n",
      "2/2 [==============================] - 0s 4ms/step - loss: 0.4843 - mae: 0.4843\n",
      "Epoch 41/100\n",
      "2/2 [==============================] - 0s 3ms/step - loss: 0.3693 - mae: 0.3693\n",
      "Epoch 42/100\n",
      "2/2 [==============================] - 0s 4ms/step - loss: 0.4437 - mae: 0.4437\n",
      "Epoch 43/100\n",
      "2/2 [==============================] - 0s 8ms/step - loss: 0.7311 - mae: 0.7311\n",
      "Epoch 44/100\n",
      "2/2 [==============================] - 0s 6ms/step - loss: 0.6221 - mae: 0.6221\n",
      "Epoch 45/100\n",
      "2/2 [==============================] - 0s 5ms/step - loss: 0.3654 - mae: 0.3654\n",
      "Epoch 46/100\n",
      "2/2 [==============================] - 0s 5ms/step - loss: 0.2446 - mae: 0.2446\n",
      "Epoch 47/100\n",
      "2/2 [==============================] - 0s 3ms/step - loss: 1.0540 - mae: 1.0540\n",
      "Epoch 48/100\n",
      "2/2 [==============================] - 0s 6ms/step - loss: 0.6083 - mae: 0.6083\n",
      "Epoch 49/100\n",
      "2/2 [==============================] - 0s 7ms/step - loss: 0.4906 - mae: 0.4906\n",
      "Epoch 50/100\n",
      "2/2 [==============================] - 0s 3ms/step - loss: 0.1977 - mae: 0.1977\n",
      "Epoch 51/100\n",
      "2/2 [==============================] - 0s 3ms/step - loss: 1.0514 - mae: 1.0514\n",
      "Epoch 52/100\n",
      "2/2 [==============================] - 0s 6ms/step - loss: 0.6337 - mae: 0.6337\n",
      "Epoch 53/100\n",
      "2/2 [==============================] - 0s 4ms/step - loss: 0.3223 - mae: 0.3223\n",
      "Epoch 54/100\n",
      "2/2 [==============================] - 0s 4ms/step - loss: 0.7547 - mae: 0.7547\n",
      "Epoch 55/100\n",
      "2/2 [==============================] - 0s 5ms/step - loss: 0.7893 - mae: 0.7893\n",
      "Epoch 56/100\n",
      "2/2 [==============================] - 0s 4ms/step - loss: 0.6797 - mae: 0.6797\n",
      "Epoch 57/100\n",
      "2/2 [==============================] - 0s 4ms/step - loss: 1.0789 - mae: 1.0789\n",
      "Epoch 58/100\n",
      "2/2 [==============================] - 0s 4ms/step - loss: 0.3067 - mae: 0.3067\n",
      "Epoch 59/100\n",
      "2/2 [==============================] - 0s 4ms/step - loss: 1.3487 - mae: 1.3487\n",
      "Epoch 60/100\n",
      "2/2 [==============================] - 0s 3ms/step - loss: 0.8309 - mae: 0.8309\n",
      "Epoch 61/100\n",
      "2/2 [==============================] - 0s 4ms/step - loss: 0.3878 - mae: 0.3878\n",
      "Epoch 62/100\n",
      "2/2 [==============================] - 0s 4ms/step - loss: 0.4596 - mae: 0.4596\n",
      "Epoch 63/100\n",
      "2/2 [==============================] - 0s 4ms/step - loss: 0.4243 - mae: 0.4243\n",
      "Epoch 64/100\n",
      "2/2 [==============================] - 0s 4ms/step - loss: 0.6875 - mae: 0.6875\n",
      "Epoch 65/100\n",
      "2/2 [==============================] - 0s 6ms/step - loss: 0.5572 - mae: 0.5572\n",
      "Epoch 66/100\n",
      "2/2 [==============================] - 0s 6ms/step - loss: 0.9488 - mae: 0.9488\n",
      "Epoch 67/100\n",
      "2/2 [==============================] - 0s 4ms/step - loss: 0.7779 - mae: 0.7779\n",
      "Epoch 68/100\n",
      "2/2 [==============================] - 0s 4ms/step - loss: 0.6163 - mae: 0.6163\n",
      "Epoch 69/100\n",
      "2/2 [==============================] - 0s 6ms/step - loss: 0.8676 - mae: 0.8676\n",
      "Epoch 70/100\n",
      "2/2 [==============================] - 0s 5ms/step - loss: 1.3174 - mae: 1.3174\n",
      "Epoch 71/100\n",
      "2/2 [==============================] - 0s 6ms/step - loss: 0.5187 - mae: 0.5187\n",
      "Epoch 72/100\n",
      "2/2 [==============================] - 0s 6ms/step - loss: 1.2962 - mae: 1.2962\n",
      "Epoch 73/100\n",
      "2/2 [==============================] - 0s 4ms/step - loss: 1.3314 - mae: 1.3314\n",
      "Epoch 74/100\n",
      "2/2 [==============================] - 0s 4ms/step - loss: 1.2389 - mae: 1.2389\n",
      "Epoch 75/100\n",
      "2/2 [==============================] - 0s 5ms/step - loss: 0.3712 - mae: 0.3712\n",
      "Epoch 76/100\n",
      "2/2 [==============================] - 0s 6ms/step - loss: 0.5589 - mae: 0.5589\n",
      "Epoch 77/100\n",
      "2/2 [==============================] - 0s 4ms/step - loss: 0.5014 - mae: 0.5014\n",
      "Epoch 78/100\n",
      "2/2 [==============================] - 0s 3ms/step - loss: 0.2487 - mae: 0.2487\n",
      "Epoch 79/100\n",
      "2/2 [==============================] - 0s 3ms/step - loss: 1.1325 - mae: 1.1325\n",
      "Epoch 80/100\n",
      "2/2 [==============================] - 0s 6ms/step - loss: 0.8271 - mae: 0.8271\n",
      "Epoch 81/100\n",
      "2/2 [==============================] - 0s 5ms/step - loss: 0.9388 - mae: 0.9388\n",
      "Epoch 82/100\n",
      "2/2 [==============================] - 0s 5ms/step - loss: 1.6371 - mae: 1.6371\n",
      "Epoch 83/100\n",
      "2/2 [==============================] - 0s 4ms/step - loss: 0.7731 - mae: 0.7731\n",
      "Epoch 84/100\n",
      "2/2 [==============================] - 0s 4ms/step - loss: 0.8237 - mae: 0.8237\n",
      "Epoch 85/100\n",
      "2/2 [==============================] - 0s 6ms/step - loss: 0.5525 - mae: 0.5525\n",
      "Epoch 86/100\n",
      "2/2 [==============================] - 0s 4ms/step - loss: 0.7104 - mae: 0.7104\n",
      "Epoch 87/100\n",
      "2/2 [==============================] - 0s 3ms/step - loss: 0.4361 - mae: 0.4361\n",
      "Epoch 88/100\n",
      "2/2 [==============================] - 0s 4ms/step - loss: 0.2477 - mae: 0.2477\n",
      "Epoch 89/100\n",
      "2/2 [==============================] - 0s 16ms/step - loss: 0.9466 - mae: 0.9466\n",
      "Epoch 90/100\n",
      "2/2 [==============================] - 0s 4ms/step - loss: 0.4188 - mae: 0.4188\n",
      "Epoch 91/100\n",
      "2/2 [==============================] - 0s 8ms/step - loss: 0.3342 - mae: 0.3342\n",
      "Epoch 92/100\n",
      "2/2 [==============================] - 0s 3ms/step - loss: 0.5465 - mae: 0.5465\n",
      "Epoch 93/100\n",
      "2/2 [==============================] - 0s 4ms/step - loss: 0.6505 - mae: 0.6505\n",
      "Epoch 94/100\n",
      "2/2 [==============================] - 0s 3ms/step - loss: 0.6553 - mae: 0.6553\n",
      "Epoch 95/100\n",
      "2/2 [==============================] - 0s 4ms/step - loss: 0.3195 - mae: 0.3195\n",
      "Epoch 96/100\n",
      "2/2 [==============================] - 0s 4ms/step - loss: 0.4383 - mae: 0.4383\n",
      "Epoch 97/100\n",
      "2/2 [==============================] - 0s 4ms/step - loss: 0.3467 - mae: 0.3467\n",
      "Epoch 98/100\n",
      "2/2 [==============================] - 0s 5ms/step - loss: 0.4236 - mae: 0.4236\n",
      "Epoch 99/100\n",
      "2/2 [==============================] - 0s 4ms/step - loss: 0.4941 - mae: 0.4941\n",
      "Epoch 100/100\n",
      "2/2 [==============================] - 0s 5ms/step - loss: 0.3170 - mae: 0.3170\n"
     ]
    },
    {
     "data": {
      "text/plain": [
       "<keras.callbacks.History at 0x208cf70ed00>"
      ]
     },
     "execution_count": 30,
     "metadata": {},
     "output_type": "execute_result"
    }
   ],
   "source": [
    "# Building a model for training data\n",
    "# Create a new model\n",
    "model = tf.keras.Sequential([\n",
    "    tf.keras.layers.Dense(100, activation='relu'),\n",
    "    tf.keras.layers.Dense(1)\n",
    "])\n",
    "\n",
    "model.compile(loss=tf.losses.mae,\n",
    "              optimizer=tf.keras.optimizers.Adam(lr=0.01),\n",
    "              metrics=['mae'])\n",
    "\n",
    "model.fit(tf.expand_dims(X_train, axis=-1), y_train, epochs=100)\n"
   ]
  },
  {
   "cell_type": "code",
   "execution_count": 31,
   "id": "f692c5e4",
   "metadata": {},
   "outputs": [
    {
     "name": "stdout",
     "output_type": "stream",
     "text": [
      "Model: \"sequential_12\"\n",
      "_________________________________________________________________\n",
      " Layer (type)                Output Shape              Param #   \n",
      "=================================================================\n",
      " dense_18 (Dense)            (None, 100)               200       \n",
      "                                                                 \n",
      " dense_19 (Dense)            (None, 1)                 101       \n",
      "                                                                 \n",
      "=================================================================\n",
      "Total params: 301\n",
      "Trainable params: 301\n",
      "Non-trainable params: 0\n",
      "_________________________________________________________________\n"
     ]
    }
   ],
   "source": [
    "model.summary()"
   ]
  },
  {
   "cell_type": "code",
   "execution_count": null,
   "id": "8b4ee564",
   "metadata": {},
   "outputs": [],
   "source": []
  }
 ],
 "metadata": {
  "kernelspec": {
   "display_name": "Python 3.8.6 64-bit",
   "language": "python",
   "name": "python3"
  },
  "language_info": {
   "codemirror_mode": {
    "name": "ipython",
    "version": 3
   },
   "file_extension": ".py",
   "mimetype": "text/x-python",
   "name": "python",
   "nbconvert_exporter": "python",
   "pygments_lexer": "ipython3",
   "version": "3.8.6"
  },
  "vscode": {
   "interpreter": {
    "hash": "52634da84371cba311ea128a5ea7cdc41ff074b781779e754b270ff9f8153cee"
   }
  }
 },
 "nbformat": 4,
 "nbformat_minor": 5
}
