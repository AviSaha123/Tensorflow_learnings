{
 "cells": [
  {
   "cell_type": "code",
   "execution_count": null,
   "id": "c94685d7",
   "metadata": {},
   "outputs": [],
   "source": [
    "import tensorflow as tf\n",
    "import matplotlib.pyplot as plt \n",
    "import numpy as np"
   ]
  },
  {
   "cell_type": "code",
   "execution_count": null,
   "id": "864960f6",
   "metadata": {},
   "outputs": [],
   "source": [
    "X = np.array([-7.0, -4.0, -1.0, 2.0, 5.0, 8.0, 11.0, 14.0])\n",
    "\n",
    "# Create labels\n",
    "y = np.array([3.0, 6.0, 9.0, 12.0, 15.0, 18.0, 21.0, 24.0])\n",
    "\n",
    "# Visualize it\n",
    "plt.scatter(X, y);"
   ]
  },
  {
   "cell_type": "code",
   "execution_count": null,
   "id": "f0522a9a",
   "metadata": {},
   "outputs": [],
   "source": [
    "X = tf.constant([-7.0, -4.0, -1.0, 2.0, 5.0, 8.0, 11.0, 14.0])\n",
    "y = tf.constant([3.0, 6.0, 9.0, 12.0, 15.0, 18.0, 21.0, 24.0])\n"
   ]
  },
  {
   "cell_type": "code",
   "execution_count": null,
   "id": "e8aab9f1",
   "metadata": {},
   "outputs": [],
   "source": [
    "# Set random seed\n",
    "tf.random.set_seed(42)\n",
    "\n",
    "model = tf.keras.Sequential([\n",
    "    tf.keras.layers.Dense(1)\n",
    "])\n",
    "\n",
    "model.compile(loss = tf.losses.mae,\n",
    "              optimizer = tf.keras.optimizers.SGD(),\n",
    "              metrics = ['mae'])\n",
    "\n",
    "model.fit(tf.expand_dims(X,axis =-1), y, epochs = 100)"
   ]
  },
  {
   "cell_type": "code",
   "execution_count": null,
   "id": "4934805d",
   "metadata": {},
   "outputs": [],
   "source": [
    "X,y"
   ]
  },
  {
   "cell_type": "code",
   "execution_count": null,
   "id": "c0f96acd",
   "metadata": {},
   "outputs": [],
   "source": [
    "model.predict([14.0])"
   ]
  },
  {
   "cell_type": "code",
   "execution_count": null,
   "id": "18cba30c",
   "metadata": {},
   "outputs": [],
   "source": [
    "# Create a new model\n",
    "model = tf.keras.Sequential([\n",
    "    tf.keras.layers.Dense(100, activation = 'relu'),\n",
    "    tf.keras.layers.Dense(1)\n",
    "])\n",
    "\n",
    "model.compile(loss=tf.losses.mae,\n",
    "              optimizer=tf.keras.optimizers.Adam(lr = 0.01),\n",
    "              metrics=['mae'])\n",
    "\n",
    "model.fit(tf.expand_dims(X, axis=-1), y, epochs=100)\n"
   ]
  },
  {
   "cell_type": "code",
   "execution_count": null,
   "id": "2a17e9a7",
   "metadata": {},
   "outputs": [],
   "source": [
    "X,y"
   ]
  },
  {
   "cell_type": "code",
   "execution_count": null,
   "id": "f128a5d5",
   "metadata": {},
   "outputs": [],
   "source": [
    "model.predict([14.0])"
   ]
  },
  {
   "cell_type": "code",
   "execution_count": null,
   "id": "1b9979a5",
   "metadata": {},
   "outputs": [],
   "source": [
    "# Building a bigger dataset\n",
    "X = tf.range(-100, 100, 4)\n",
    "y = X+10\n",
    "X,y"
   ]
  },
  {
   "cell_type": "code",
   "execution_count": null,
   "id": "4919fcc2",
   "metadata": {},
   "outputs": [],
   "source": [
    "plt.scatter(X,y)"
   ]
  },
  {
   "cell_type": "code",
   "execution_count": null,
   "id": "4ad6d978",
   "metadata": {},
   "outputs": [],
   "source": [
    "X_train = X[:40]\n",
    "X_test = X[40:]\n",
    "y_train = X[:40]\n",
    "y_test = X[40:]\n",
    "\n",
    "all_data_vars = [X_train,X_test,y_train,y_test]\n",
    "for i in all_data_vars:\n",
    "    print(f'{i}length is {len(i)}')"
   ]
  },
  {
   "cell_type": "code",
   "execution_count": null,
   "id": "699e4ee6",
   "metadata": {},
   "outputs": [],
   "source": [
    "\n",
    "plt.scatter(X_train,y_train, cmap = 'red',label = \"Training Data\")\n",
    "plt.scatter(X_test,y_test, cmap = 'green',label = \"Testing Data\")\n",
    "plt.legend()"
   ]
  },
  {
   "cell_type": "code",
   "execution_count": null,
   "id": "e3bdf0a7",
   "metadata": {},
   "outputs": [],
   "source": [
    "# Building a model for training data\n",
    "# Create a new model\n",
    "model = tf.keras.Sequential([\n",
    "    tf.keras.layers.Dense(100, activation='relu'),\n",
    "    tf.keras.layers.Dense(1)\n",
    "])\n",
    "\n",
    "model.compile(loss=tf.losses.mae,\n",
    "              optimizer=tf.keras.optimizers.Adam(lr=0.01),\n",
    "              metrics=['mae'])\n",
    "\n",
    "model.fit(tf.expand_dims(X_train, axis=-1), y_train, epochs=100)\n"
   ]
  },
  {
   "cell_type": "code",
   "execution_count": null,
   "id": "f692c5e4",
   "metadata": {},
   "outputs": [],
   "source": [
    "model.summary()"
   ]
  },
  {
   "cell_type": "code",
   "execution_count": null,
   "id": "8b4ee564",
   "metadata": {},
   "outputs": [],
   "source": [
    "model = tf.keras.Sequential([\n",
    "    tf.keras.layers.Dense(1,input_shape = [1]),\n",
    "    \n",
    "])\n",
    "\n",
    "model.compile(loss = tf.keras.losses.mae,\n",
    "              optimizers = tf.keras.optimizers.SGD(),\n",
    "              metrics = ['mae'])"
   ]
  },
  {
   "cell_type": "code",
   "execution_count": null,
   "id": "9ee008d1",
   "metadata": {},
   "outputs": [],
   "source": [
    "model = tf.keras.Sequential([\n",
    "    tf.keras.layers.Dense(1, input_shape=[1]),\n",
    "\n",
    "])\n",
    "\n",
    "model.compile(loss=tf.keras.losses.mae,\n",
    "              optimizers=tf.keras.optimizers.SGD(),\n",
    "              metrics=['mae'])\n"
   ]
  },
  {
   "cell_type": "code",
   "execution_count": null,
   "id": "03907339",
   "metadata": {},
   "outputs": [],
   "source": []
  }
 ],
 "metadata": {
  "kernelspec": {
   "display_name": "Python 3.8.6 64-bit",
   "language": "python",
   "name": "python3"
  },
  "language_info": {
   "codemirror_mode": {
    "name": "ipython",
    "version": 3
   },
   "file_extension": ".py",
   "mimetype": "text/x-python",
   "name": "python",
   "nbconvert_exporter": "python",
   "pygments_lexer": "ipython3",
   "version": "3.8.6"
  },
  "vscode": {
   "interpreter": {
    "hash": "52634da84371cba311ea128a5ea7cdc41ff074b781779e754b270ff9f8153cee"
   }
  }
 },
 "nbformat": 4,
 "nbformat_minor": 5
}
